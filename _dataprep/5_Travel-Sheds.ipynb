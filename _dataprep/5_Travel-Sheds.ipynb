{
 "cells": [
  {
   "cell_type": "code",
   "execution_count": 1,
   "metadata": {},
   "outputs": [],
   "source": [
    "import numpy as np\n",
    "import os\n",
    "import pandas as pd\n",
    "import arcpy\n",
    "\n",
    "from IPython.display import display, Markdown\n",
    "\n",
    "# Import the required ArcGIS API for Python modules\n",
    "import arcgis\n",
    "from arcgis.gis import GIS\n",
    "gis = arcgis.GIS()\n",
    "from arcgis.geoanalytics import manage_data\n",
    "\n",
    "import time"
   ]
  },
  {
   "cell_type": "code",
   "execution_count": 2,
   "metadata": {},
   "outputs": [
    {
     "name": "stdout",
     "output_type": "stream",
     "text": [
      "Working Directory: e:\\GitHub\\ATO-Web-App\\_dataprep\n",
      "Input Directory: e:\\GitHub\\ATO-Web-App\\_dataprep\\input\n",
      "Intermediate Directory: e:\\GitHub\\ATO-Web-App\\_dataprep\\intermediate\n",
      "Results Directory: e:\\GitHub\\ATO-Web-App\\_dataprep\\results\n",
      "Checking if process_travelsheds.gdb exists...\n",
      "process_travelsheds.gdb exists...\n"
     ]
    }
   ],
   "source": [
    "rtpSuffix       = 'RTP2023'\n",
    "\n",
    "dirWork                    = os.getcwd()\n",
    "dirInput                   = os.path.join(dirWork ,        r'input'                  )\n",
    "dirATOdata                 = os.path.join(dirInput,        r'TDM_ATO_Output_RTP_v900')\n",
    "dirIntermediate            = os.path.join(dirWork,         r'intermediate'           )\n",
    "dirResults                 = os.path.join(dirWork,         r'results'                )\n",
    "dirIntermediateTravelSheds = os.path.join(dirIntermediate, r'travelsheds'            )\n",
    "\n",
    "print(\"Working Directory: \"      + dirWork          )\n",
    "print(\"Input Directory: \"        + dirInput         )\n",
    "print(\"Intermediate Directory: \" + dirIntermediate  )\n",
    "print(\"Results Directory: \"      + dirResults       )\n",
    "\n",
    "gdb_Process_name         = 'process_travelsheds.gdb'\n",
    "gdb_Process              = os.path.join(dirIntermediate, 'process_travelsheds.gdb')\n",
    "gdb_ATO_TravelSheds_name = 'TravelSheds_' + rtpSuffix + '.gdb'\n",
    "gdb_ATO_TravelSheds      = os.path.join(dirResults, r'TravelSheds_' + rtpSuffix + '.gdb')\n",
    "\n",
    "#name of TAZ Centroids\n",
    "filenameTDMNodes             = os.path.join(dirATOdata, 'v9_SE50_Net50_Node.shp')\n",
    "\n",
    "#name of TAZs\n",
    "filenameTAZshp               = os.path.join(dirResults, 'TAZ_ATO_' + rtpSuffix + '.shp')\n",
    "\n",
    "#utah shapefile\n",
    "filenameUtahshp              = os.path.join(dirIntermediate, 'UtahSimple.shp')\n",
    "\n",
    "#intermediate filenames\n",
    "filenameTravelShedsForOneTAZData      = os.path.join(dirIntermediate, 'travelsheds\\TAZShedsData.csv')\n",
    "filenameTravelShedsForOneTAZJoin      = os.path.join(gdb_Process, 'TAZSheds_Join')\n",
    "filenameTravelShedsForOneTAZDissolve  = os.path.join(gdb_Process, 'TAZSheds_Dissolve')\n",
    "filenameTravelShedsForOneTAZPolylines = os.path.join(gdb_Process, 'TAZSheds_Polylines')\n",
    "filenameTravelShedsForOneTAZMask      = os.path.join(gdb_Process, 'TAZSheds_Mask')\n",
    "\n",
    "filenameTravelSheds                   = os.path.join(gdb_ATO_TravelSheds, rtpSuffix + '_TAZSheds')\n",
    "\n",
    "\n",
    "def deleteIfExists(obj):\n",
    "    if arcpy.Exists(obj): arcpy.Delete_management(obj)\n",
    "              \n",
    "\n",
    "#if results geodatabase doesn't exist, create it\n",
    "print(\"Checking if \" + gdb_Process_name + \" exists...\")\n",
    "if not arcpy.Exists(os.path.join(dirIntermediate, gdb_Process_name)):\n",
    "    print(\"Creating \" + gdb_Process_name + \"...\")\n",
    "    arcpy.management.CreateFileGDB(dirIntermediate, gdb_Process_name)\n",
    "else:\n",
    "    print(gdb_Process_name + \" exists...\")\n",
    "\n",
    "\n",
    "listTDMs       = ['v9_SE23_Net23','v9_RTP_SE50_Net50']\n",
    "listLayerNames = ['2023','2050']\n",
    "listMode       = ['AUTO','TRAN']"
   ]
  },
  {
   "cell_type": "code",
   "execution_count": 3,
   "metadata": {},
   "outputs": [],
   "source": [
    "# get list of TAZs in TAZ ATO, since some filtered out due to no hh job\n",
    "\n",
    "sdfTAZATO = pd.DataFrame.spatial.from_featureclass(filenameTAZshp)\n",
    "listValidTazs = sdfTAZATO['TAZID'].tolist()"
   ]
  },
  {
   "cell_type": "code",
   "execution_count": 4,
   "metadata": {},
   "outputs": [],
   "source": [
    "skip = True\n",
    "\n",
    "if not skip:\n",
    "\n",
    "    df_TS_Summary = pd.DataFrame()\n",
    "\n",
    "    i = -1\n",
    "\n",
    "    #loop through tdm results from preprocessed data\n",
    "    for tdm in listTDMs:\n",
    "        \n",
    "        i = i + 1 \n",
    "\n",
    "        filenameTravelShed_Summary = os.path.join(dirIntermediateTravelSheds, tdm + '_TAZOpportunitySheds_Summary.csv')\n",
    "        display(filenameTravelShed_Summary)\n",
    "\n",
    "        df_TS_Summary_read = pd.read_csv(filenameTravelShed_Summary, index_col=False)\n",
    "        \n",
    "        df_TS_Summary_read['TDM'] = listLayerNames[i]\n",
    "    \n",
    "        df_TS_Summary = pd.concat([df_TS_Summary,df_TS_Summary_read])\n",
    "\n",
    "    display(df_TS_Summary)\n",
    "    df_TS_Summary.to_json(os.path.join(dirResults, 'TAZSheds_Summary_' + rtpSuffix + '.json'),orient='records',double_precision=2)\n"
   ]
  },
  {
   "cell_type": "code",
   "execution_count": 5,
   "metadata": {
    "scrolled": true
   },
   "outputs": [
    {
     "name": "stdout",
     "output_type": "stream",
     "text": [
      "Checking if TravelSheds_RTP2023.gdb exists...\n",
      "TravelSheds_RTP2023.gdb exists...\n"
     ]
    },
    {
     "data": {
      "text/plain": [
       "'Last TAZ finished: 2794'"
      ]
     },
     "metadata": {},
     "output_type": "display_data"
    },
    {
     "data": {
      "text/plain": [
       "'e:\\\\GitHub\\\\ATO-Web-App\\\\_dataprep\\\\intermediate\\\\travelsheds\\\\v9_SE23_Net23_TAZOpportunitySheds_TRAN.csv'"
      ]
     },
     "metadata": {},
     "output_type": "display_data"
    },
    {
     "data": {
      "text/plain": [
       "'TAZ 2795 Elapsed Seconds: 9.351197957992554'"
      ]
     },
     "metadata": {},
     "output_type": "display_data"
    },
    {
     "data": {
      "text/plain": [
       "'TAZ 2796 Elapsed Seconds: 6.685186386108398'"
      ]
     },
     "metadata": {},
     "output_type": "display_data"
    },
    {
     "data": {
      "text/plain": [
       "'TAZ 2797 Elapsed Seconds: 6.342809438705444'"
      ]
     },
     "metadata": {},
     "output_type": "display_data"
    },
    {
     "data": {
      "text/plain": [
       "'TAZ 2798 Elapsed Seconds: 6.3749308586120605'"
      ]
     },
     "metadata": {},
     "output_type": "display_data"
    },
    {
     "data": {
      "text/plain": [
       "'TAZ 2799 Elapsed Seconds: 6.259831428527832'"
      ]
     },
     "metadata": {},
     "output_type": "display_data"
    },
    {
     "data": {
      "text/plain": [
       "'TAZ 2800 Elapsed Seconds: 6.293497800827026'"
      ]
     },
     "metadata": {},
     "output_type": "display_data"
    },
    {
     "data": {
      "text/plain": [
       "'TAZ 2801 Elapsed Seconds: 6.3054280281066895'"
      ]
     },
     "metadata": {},
     "output_type": "display_data"
    },
    {
     "data": {
      "text/plain": [
       "'TAZ 2802 Elapsed Seconds: 6.767313241958618'"
      ]
     },
     "metadata": {},
     "output_type": "display_data"
    },
    {
     "data": {
      "text/plain": [
       "'TAZ 2803 Elapsed Seconds: 6.674561977386475'"
      ]
     },
     "metadata": {},
     "output_type": "display_data"
    },
    {
     "data": {
      "text/plain": [
       "'TAZ 2804 Elapsed Seconds: 6.715651273727417'"
      ]
     },
     "metadata": {},
     "output_type": "display_data"
    },
    {
     "data": {
      "text/plain": [
       "'TAZ 2805 Elapsed Seconds: 6.95602011680603'"
      ]
     },
     "metadata": {},
     "output_type": "display_data"
    },
    {
     "data": {
      "text/plain": [
       "'TAZ 2806 Elapsed Seconds: 6.8397746086120605'"
      ]
     },
     "metadata": {},
     "output_type": "display_data"
    },
    {
     "data": {
      "text/plain": [
       "'TAZ 2807 Elapsed Seconds: 6.918530225753784'"
      ]
     },
     "metadata": {},
     "output_type": "display_data"
    },
    {
     "data": {
      "text/plain": [
       "'TAZ 2808 Elapsed Seconds: 7.1132285594940186'"
      ]
     },
     "metadata": {},
     "output_type": "display_data"
    },
    {
     "data": {
      "text/plain": [
       "'TAZ 2809 Elapsed Seconds: 6.91241455078125'"
      ]
     },
     "metadata": {},
     "output_type": "display_data"
    },
    {
     "data": {
      "text/plain": [
       "'TAZ 2810 Elapsed Seconds: 6.829002380371094'"
      ]
     },
     "metadata": {},
     "output_type": "display_data"
    },
    {
     "data": {
      "text/plain": [
       "'TAZ 2811 Elapsed Seconds: 6.861734867095947'"
      ]
     },
     "metadata": {},
     "output_type": "display_data"
    },
    {
     "data": {
      "text/plain": [
       "'TAZ 2812 Elapsed Seconds: 6.666531801223755'"
      ]
     },
     "metadata": {},
     "output_type": "display_data"
    },
    {
     "data": {
      "text/plain": [
       "'TAZ 2813 Elapsed Seconds: 6.611672639846802'"
      ]
     },
     "metadata": {},
     "output_type": "display_data"
    },
    {
     "data": {
      "text/plain": [
       "'TAZ 2814 Elapsed Seconds: 7.303362607955933'"
      ]
     },
     "metadata": {},
     "output_type": "display_data"
    },
    {
     "data": {
      "text/plain": [
       "'TAZ 2815 Elapsed Seconds: 7.750653266906738'"
      ]
     },
     "metadata": {},
     "output_type": "display_data"
    },
    {
     "data": {
      "text/plain": [
       "'TAZ 2816 Elapsed Seconds: 7.720186710357666'"
      ]
     },
     "metadata": {},
     "output_type": "display_data"
    },
    {
     "data": {
      "text/plain": [
       "'TAZ 2817 Elapsed Seconds: 6.83814549446106'"
      ]
     },
     "metadata": {},
     "output_type": "display_data"
    },
    {
     "data": {
      "text/plain": [
       "'TAZ 2818 Elapsed Seconds: 6.315597295761108'"
      ]
     },
     "metadata": {},
     "output_type": "display_data"
    },
    {
     "data": {
      "text/plain": [
       "'TAZ 2819 Elapsed Seconds: 6.662558078765869'"
      ]
     },
     "metadata": {},
     "output_type": "display_data"
    },
    {
     "data": {
      "text/plain": [
       "'TAZ 2820 Elapsed Seconds: 6.45272159576416'"
      ]
     },
     "metadata": {},
     "output_type": "display_data"
    },
    {
     "data": {
      "text/plain": [
       "'TAZ 2821 Elapsed Seconds: 6.81390643119812'"
      ]
     },
     "metadata": {},
     "output_type": "display_data"
    },
    {
     "data": {
      "text/plain": [
       "'TAZ 2822 Elapsed Seconds: 6.581141471862793'"
      ]
     },
     "metadata": {},
     "output_type": "display_data"
    },
    {
     "data": {
      "text/plain": [
       "'TAZ 2823 Elapsed Seconds: 6.756842613220215'"
      ]
     },
     "metadata": {},
     "output_type": "display_data"
    },
    {
     "data": {
      "text/plain": [
       "'TAZ 2824 Elapsed Seconds: 6.462466478347778'"
      ]
     },
     "metadata": {},
     "output_type": "display_data"
    },
    {
     "data": {
      "text/plain": [
       "'TAZ 2825 Elapsed Seconds: 6.423229694366455'"
      ]
     },
     "metadata": {},
     "output_type": "display_data"
    },
    {
     "data": {
      "text/plain": [
       "'TAZ 2826 Elapsed Seconds: 6.392458915710449'"
      ]
     },
     "metadata": {},
     "output_type": "display_data"
    },
    {
     "data": {
      "text/plain": [
       "'TAZ 2827 Elapsed Seconds: 6.568093299865723'"
      ]
     },
     "metadata": {},
     "output_type": "display_data"
    },
    {
     "data": {
      "text/plain": [
       "'TAZ 2828 Elapsed Seconds: 6.509204387664795'"
      ]
     },
     "metadata": {},
     "output_type": "display_data"
    },
    {
     "data": {
      "text/plain": [
       "'TAZ 2829 Elapsed Seconds: 6.755036115646362'"
      ]
     },
     "metadata": {},
     "output_type": "display_data"
    },
    {
     "data": {
      "text/plain": [
       "'TAZ 2830 Elapsed Seconds: 6.650242567062378'"
      ]
     },
     "metadata": {},
     "output_type": "display_data"
    },
    {
     "data": {
      "text/plain": [
       "'TAZ 2831 Elapsed Seconds: 6.659030199050903'"
      ]
     },
     "metadata": {},
     "output_type": "display_data"
    },
    {
     "data": {
      "text/plain": [
       "'TAZ 2832 Elapsed Seconds: 6.569213390350342'"
      ]
     },
     "metadata": {},
     "output_type": "display_data"
    },
    {
     "data": {
      "text/plain": [
       "'TAZ 2833 Elapsed Seconds: 6.453734636306763'"
      ]
     },
     "metadata": {},
     "output_type": "display_data"
    },
    {
     "data": {
      "text/plain": [
       "'TAZ 2834 Elapsed Seconds: 6.369044780731201'"
      ]
     },
     "metadata": {},
     "output_type": "display_data"
    },
    {
     "data": {
      "text/plain": [
       "'TAZ 2835 Elapsed Seconds: 6.645775318145752'"
      ]
     },
     "metadata": {},
     "output_type": "display_data"
    },
    {
     "data": {
      "text/plain": [
       "'TAZ 2836 Elapsed Seconds: 6.655865669250488'"
      ]
     },
     "metadata": {},
     "output_type": "display_data"
    },
    {
     "data": {
      "text/plain": [
       "'TAZ 2837 Elapsed Seconds: 6.870888948440552'"
      ]
     },
     "metadata": {},
     "output_type": "display_data"
    },
    {
     "data": {
      "text/plain": [
       "'TAZ 2838 Elapsed Seconds: 6.460298776626587'"
      ]
     },
     "metadata": {},
     "output_type": "display_data"
    },
    {
     "data": {
      "text/plain": [
       "'TAZ 2839 Elapsed Seconds: 6.554629802703857'"
      ]
     },
     "metadata": {},
     "output_type": "display_data"
    },
    {
     "data": {
      "text/plain": [
       "'TAZ 2840 Elapsed Seconds: 7.16603422164917'"
      ]
     },
     "metadata": {},
     "output_type": "display_data"
    },
    {
     "data": {
      "text/plain": [
       "'TAZ 2841 Elapsed Seconds: 6.692078351974487'"
      ]
     },
     "metadata": {},
     "output_type": "display_data"
    },
    {
     "data": {
      "text/plain": [
       "'TAZ 2842 Elapsed Seconds: 6.73603367805481'"
      ]
     },
     "metadata": {},
     "output_type": "display_data"
    },
    {
     "data": {
      "text/plain": [
       "'TAZ 2843 Elapsed Seconds: 7.089851140975952'"
      ]
     },
     "metadata": {},
     "output_type": "display_data"
    },
    {
     "data": {
      "text/plain": [
       "'TAZ 2844 Elapsed Seconds: 7.041247844696045'"
      ]
     },
     "metadata": {},
     "output_type": "display_data"
    },
    {
     "data": {
      "text/plain": [
       "'TAZ 2845 Elapsed Seconds: 7.139347076416016'"
      ]
     },
     "metadata": {},
     "output_type": "display_data"
    },
    {
     "data": {
      "text/plain": [
       "'TAZ 2846 Elapsed Seconds: 6.995852947235107'"
      ]
     },
     "metadata": {},
     "output_type": "display_data"
    },
    {
     "data": {
      "text/plain": [
       "'TAZ 2847 Elapsed Seconds: 6.848079204559326'"
      ]
     },
     "metadata": {},
     "output_type": "display_data"
    },
    {
     "data": {
      "text/plain": [
       "'TAZ 2848 Elapsed Seconds: 6.571320056915283'"
      ]
     },
     "metadata": {},
     "output_type": "display_data"
    },
    {
     "data": {
      "text/plain": [
       "'TAZ 2849 Elapsed Seconds: 6.5876665115356445'"
      ]
     },
     "metadata": {},
     "output_type": "display_data"
    },
    {
     "data": {
      "text/plain": [
       "'TAZ 2850 Elapsed Seconds: 6.65452766418457'"
      ]
     },
     "metadata": {},
     "output_type": "display_data"
    },
    {
     "data": {
      "text/plain": [
       "'TAZ 2851 Elapsed Seconds: 6.834614276885986'"
      ]
     },
     "metadata": {},
     "output_type": "display_data"
    },
    {
     "data": {
      "text/plain": [
       "'TAZ 2852 Elapsed Seconds: 6.792846441268921'"
      ]
     },
     "metadata": {},
     "output_type": "display_data"
    },
    {
     "data": {
      "text/plain": [
       "'TAZ 2853 Elapsed Seconds: 6.9470179080963135'"
      ]
     },
     "metadata": {},
     "output_type": "display_data"
    },
    {
     "data": {
      "text/plain": [
       "'TAZ 2854 Elapsed Seconds: 6.821422338485718'"
      ]
     },
     "metadata": {},
     "output_type": "display_data"
    },
    {
     "data": {
      "text/plain": [
       "'TAZ 2855 Elapsed Seconds: 6.690186023712158'"
      ]
     },
     "metadata": {},
     "output_type": "display_data"
    },
    {
     "data": {
      "text/plain": [
       "'TAZ 2856 Elapsed Seconds: 6.837876796722412'"
      ]
     },
     "metadata": {},
     "output_type": "display_data"
    },
    {
     "data": {
      "text/plain": [
       "'TAZ 2857 Elapsed Seconds: 6.587421178817749'"
      ]
     },
     "metadata": {},
     "output_type": "display_data"
    },
    {
     "data": {
      "text/plain": [
       "'TAZ 2858 Elapsed Seconds: 6.758238792419434'"
      ]
     },
     "metadata": {},
     "output_type": "display_data"
    },
    {
     "data": {
      "text/plain": [
       "'TAZ 2859 Elapsed Seconds: 7.039910554885864'"
      ]
     },
     "metadata": {},
     "output_type": "display_data"
    },
    {
     "data": {
      "text/plain": [
       "'TAZ 2860 Elapsed Seconds: 6.841651201248169'"
      ]
     },
     "metadata": {},
     "output_type": "display_data"
    },
    {
     "data": {
      "text/plain": [
       "'TAZ 2861 Elapsed Seconds: 6.9477338790893555'"
      ]
     },
     "metadata": {},
     "output_type": "display_data"
    },
    {
     "data": {
      "text/plain": [
       "'TAZ 2862 Elapsed Seconds: 6.706710338592529'"
      ]
     },
     "metadata": {},
     "output_type": "display_data"
    },
    {
     "data": {
      "text/plain": [
       "'TAZ 2863 Elapsed Seconds: 6.956490755081177'"
      ]
     },
     "metadata": {},
     "output_type": "display_data"
    },
    {
     "data": {
      "text/plain": [
       "'TAZ 2864 Elapsed Seconds: 7.052670478820801'"
      ]
     },
     "metadata": {},
     "output_type": "display_data"
    },
    {
     "data": {
      "text/plain": [
       "'TAZ 2865 Elapsed Seconds: 6.772061586380005'"
      ]
     },
     "metadata": {},
     "output_type": "display_data"
    },
    {
     "data": {
      "text/plain": [
       "'TAZ 2866 Elapsed Seconds: 7.3369386196136475'"
      ]
     },
     "metadata": {},
     "output_type": "display_data"
    },
    {
     "data": {
      "text/plain": [
       "'TAZ 2867 Elapsed Seconds: 7.406756639480591'"
      ]
     },
     "metadata": {},
     "output_type": "display_data"
    },
    {
     "data": {
      "text/plain": [
       "'TAZ 2868 Elapsed Seconds: 7.188398838043213'"
      ]
     },
     "metadata": {},
     "output_type": "display_data"
    },
    {
     "data": {
      "text/plain": [
       "'TAZ 2869 Elapsed Seconds: 7.389090538024902'"
      ]
     },
     "metadata": {},
     "output_type": "display_data"
    },
    {
     "data": {
      "text/plain": [
       "'TAZ 2870 Elapsed Seconds: 7.140645742416382'"
      ]
     },
     "metadata": {},
     "output_type": "display_data"
    },
    {
     "data": {
      "text/plain": [
       "'TAZ 2871 Elapsed Seconds: 6.7192542552948'"
      ]
     },
     "metadata": {},
     "output_type": "display_data"
    },
    {
     "data": {
      "text/plain": [
       "'TAZ 2872 Elapsed Seconds: 6.729976654052734'"
      ]
     },
     "metadata": {},
     "output_type": "display_data"
    },
    {
     "data": {
      "text/plain": [
       "'TAZ 2873 Elapsed Seconds: 7.297992467880249'"
      ]
     },
     "metadata": {},
     "output_type": "display_data"
    },
    {
     "data": {
      "text/plain": [
       "'TAZ 2874 Elapsed Seconds: 7.384312152862549'"
      ]
     },
     "metadata": {},
     "output_type": "display_data"
    },
    {
     "data": {
      "text/plain": [
       "'TAZ 2875 Elapsed Seconds: 7.23028826713562'"
      ]
     },
     "metadata": {},
     "output_type": "display_data"
    },
    {
     "data": {
      "text/plain": [
       "'TAZ 2876 Elapsed Seconds: 7.033236026763916'"
      ]
     },
     "metadata": {},
     "output_type": "display_data"
    },
    {
     "data": {
      "text/plain": [
       "'TAZ 2877 Elapsed Seconds: 7.008194446563721'"
      ]
     },
     "metadata": {},
     "output_type": "display_data"
    },
    {
     "data": {
      "text/plain": [
       "'TAZ 2878 Elapsed Seconds: 7.013696193695068'"
      ]
     },
     "metadata": {},
     "output_type": "display_data"
    },
    {
     "data": {
      "text/plain": [
       "'TAZ 2879 Elapsed Seconds: 6.733876466751099'"
      ]
     },
     "metadata": {},
     "output_type": "display_data"
    },
    {
     "data": {
      "text/plain": [
       "'TAZ 2880 Elapsed Seconds: 6.821012496948242'"
      ]
     },
     "metadata": {},
     "output_type": "display_data"
    },
    {
     "data": {
      "text/plain": [
       "'TAZ 2881 Elapsed Seconds: 6.904951095581055'"
      ]
     },
     "metadata": {},
     "output_type": "display_data"
    },
    {
     "data": {
      "text/plain": [
       "'TAZ 2882 Elapsed Seconds: 7.088877439498901'"
      ]
     },
     "metadata": {},
     "output_type": "display_data"
    },
    {
     "data": {
      "text/plain": [
       "'TAZ 2883 Elapsed Seconds: 6.93070912361145'"
      ]
     },
     "metadata": {},
     "output_type": "display_data"
    },
    {
     "data": {
      "text/plain": [
       "'TAZ 2884 Elapsed Seconds: 6.926671981811523'"
      ]
     },
     "metadata": {},
     "output_type": "display_data"
    },
    {
     "data": {
      "text/plain": [
       "'TAZ 2885 Elapsed Seconds: 6.933725595474243'"
      ]
     },
     "metadata": {},
     "output_type": "display_data"
    },
    {
     "data": {
      "text/plain": [
       "'TAZ 2886 Elapsed Seconds: 7.050863981246948'"
      ]
     },
     "metadata": {},
     "output_type": "display_data"
    },
    {
     "data": {
      "text/plain": [
       "'TAZ 2887 Elapsed Seconds: 7.373612642288208'"
      ]
     },
     "metadata": {},
     "output_type": "display_data"
    },
    {
     "data": {
      "text/plain": [
       "'TAZ 2888 Elapsed Seconds: 7.543557405471802'"
      ]
     },
     "metadata": {},
     "output_type": "display_data"
    },
    {
     "data": {
      "text/plain": [
       "'TAZ 2889 Elapsed Seconds: 7.041378498077393'"
      ]
     },
     "metadata": {},
     "output_type": "display_data"
    },
    {
     "data": {
      "text/plain": [
       "'TAZ 2890 Elapsed Seconds: 7.213987350463867'"
      ]
     },
     "metadata": {},
     "output_type": "display_data"
    },
    {
     "data": {
      "text/plain": [
       "'TAZ 2891 Elapsed Seconds: 7.218502044677734'"
      ]
     },
     "metadata": {},
     "output_type": "display_data"
    },
    {
     "data": {
      "text/plain": [
       "'TAZ 2892 Elapsed Seconds: 7.4788289070129395'"
      ]
     },
     "metadata": {},
     "output_type": "display_data"
    },
    {
     "data": {
      "text/plain": [
       "'TAZ 2893 Elapsed Seconds: 6.89516806602478'"
      ]
     },
     "metadata": {},
     "output_type": "display_data"
    },
    {
     "data": {
      "text/plain": [
       "'TAZ 2894 Elapsed Seconds: 6.95362114906311'"
      ]
     },
     "metadata": {},
     "output_type": "display_data"
    },
    {
     "data": {
      "text/plain": [
       "'TAZ 2895 Elapsed Seconds: 7.095308780670166'"
      ]
     },
     "metadata": {},
     "output_type": "display_data"
    },
    {
     "data": {
      "text/plain": [
       "'TAZ 2896 Elapsed Seconds: 7.056705713272095'"
      ]
     },
     "metadata": {},
     "output_type": "display_data"
    },
    {
     "data": {
      "text/plain": [
       "'TAZ 2897 Elapsed Seconds: 7.246120452880859'"
      ]
     },
     "metadata": {},
     "output_type": "display_data"
    },
    {
     "data": {
      "text/plain": [
       "'TAZ 2898 Elapsed Seconds: 7.687543630599976'"
      ]
     },
     "metadata": {},
     "output_type": "display_data"
    },
    {
     "data": {
      "text/plain": [
       "'TAZ 2899 Elapsed Seconds: 7.130790710449219'"
      ]
     },
     "metadata": {},
     "output_type": "display_data"
    },
    {
     "data": {
      "text/plain": [
       "'TAZ 2900 Elapsed Seconds: 7.130934000015259'"
      ]
     },
     "metadata": {},
     "output_type": "display_data"
    },
    {
     "data": {
      "text/plain": [
       "'TAZ 2901 Elapsed Seconds: 7.139829635620117'"
      ]
     },
     "metadata": {},
     "output_type": "display_data"
    },
    {
     "data": {
      "text/plain": [
       "'TAZ 2902 Elapsed Seconds: 7.123461723327637'"
      ]
     },
     "metadata": {},
     "output_type": "display_data"
    },
    {
     "data": {
      "text/plain": [
       "'TAZ 2903 Elapsed Seconds: 7.14478063583374'"
      ]
     },
     "metadata": {},
     "output_type": "display_data"
    },
    {
     "data": {
      "text/plain": [
       "'TAZ 2904 Elapsed Seconds: 7.082773447036743'"
      ]
     },
     "metadata": {},
     "output_type": "display_data"
    },
    {
     "data": {
      "text/plain": [
       "'TAZ 2905 Elapsed Seconds: 7.12450647354126'"
      ]
     },
     "metadata": {},
     "output_type": "display_data"
    },
    {
     "data": {
      "text/plain": [
       "'TAZ 2906 Elapsed Seconds: 6.917921304702759'"
      ]
     },
     "metadata": {},
     "output_type": "display_data"
    },
    {
     "data": {
      "text/plain": [
       "'TAZ 2907 Elapsed Seconds: 6.923078775405884'"
      ]
     },
     "metadata": {},
     "output_type": "display_data"
    },
    {
     "data": {
      "text/plain": [
       "'TAZ 2908 Elapsed Seconds: 6.896405220031738'"
      ]
     },
     "metadata": {},
     "output_type": "display_data"
    },
    {
     "data": {
      "text/plain": [
       "'TAZ 2909 Elapsed Seconds: 6.988776683807373'"
      ]
     },
     "metadata": {},
     "output_type": "display_data"
    },
    {
     "data": {
      "text/plain": [
       "'TAZ 2910 Elapsed Seconds: 7.09048318862915'"
      ]
     },
     "metadata": {},
     "output_type": "display_data"
    },
    {
     "data": {
      "text/plain": [
       "'TAZ 2912 Elapsed Seconds: 7.199917554855347'"
      ]
     },
     "metadata": {},
     "output_type": "display_data"
    },
    {
     "data": {
      "text/plain": [
       "'TAZ 2913 Elapsed Seconds: 7.327558279037476'"
      ]
     },
     "metadata": {},
     "output_type": "display_data"
    },
    {
     "data": {
      "text/plain": [
       "'TAZ 2914 Elapsed Seconds: 7.074368476867676'"
      ]
     },
     "metadata": {},
     "output_type": "display_data"
    },
    {
     "data": {
      "text/plain": [
       "'TAZ 2915 Elapsed Seconds: 7.161509037017822'"
      ]
     },
     "metadata": {},
     "output_type": "display_data"
    },
    {
     "data": {
      "text/plain": [
       "'TAZ 2916 Elapsed Seconds: 7.078429698944092'"
      ]
     },
     "metadata": {},
     "output_type": "display_data"
    },
    {
     "data": {
      "text/plain": [
       "'TAZ 2917 Elapsed Seconds: 7.325570583343506'"
      ]
     },
     "metadata": {},
     "output_type": "display_data"
    },
    {
     "data": {
      "text/plain": [
       "'TAZ 2918 Elapsed Seconds: 7.806276082992554'"
      ]
     },
     "metadata": {},
     "output_type": "display_data"
    },
    {
     "data": {
      "text/plain": [
       "'TAZ 2919 Elapsed Seconds: 7.599362134933472'"
      ]
     },
     "metadata": {},
     "output_type": "display_data"
    },
    {
     "data": {
      "text/plain": [
       "'TAZ 2920 Elapsed Seconds: 7.680526971817017'"
      ]
     },
     "metadata": {},
     "output_type": "display_data"
    },
    {
     "data": {
      "text/plain": [
       "'TAZ 2921 Elapsed Seconds: 7.3938210010528564'"
      ]
     },
     "metadata": {},
     "output_type": "display_data"
    },
    {
     "data": {
      "text/plain": [
       "'TAZ 2922 Elapsed Seconds: 7.1306984424591064'"
      ]
     },
     "metadata": {},
     "output_type": "display_data"
    },
    {
     "data": {
      "text/plain": [
       "'TAZ 2923 Elapsed Seconds: 7.095900058746338'"
      ]
     },
     "metadata": {},
     "output_type": "display_data"
    },
    {
     "data": {
      "text/plain": [
       "'TAZ 2924 Elapsed Seconds: 7.476826429367065'"
      ]
     },
     "metadata": {},
     "output_type": "display_data"
    },
    {
     "data": {
      "text/plain": [
       "'TAZ 2925 Elapsed Seconds: 7.250044822692871'"
      ]
     },
     "metadata": {},
     "output_type": "display_data"
    },
    {
     "data": {
      "text/plain": [
       "'TAZ 2926 Elapsed Seconds: 7.276820659637451'"
      ]
     },
     "metadata": {},
     "output_type": "display_data"
    },
    {
     "data": {
      "text/plain": [
       "'TAZ 2927 Elapsed Seconds: 7.456426382064819'"
      ]
     },
     "metadata": {},
     "output_type": "display_data"
    },
    {
     "data": {
      "text/plain": [
       "'TAZ 2928 Elapsed Seconds: 7.345024108886719'"
      ]
     },
     "metadata": {},
     "output_type": "display_data"
    },
    {
     "data": {
      "text/plain": [
       "'TAZ 2929 Elapsed Seconds: 7.428053140640259'"
      ]
     },
     "metadata": {},
     "output_type": "display_data"
    },
    {
     "data": {
      "text/plain": [
       "'TAZ 2930 Elapsed Seconds: 7.291211128234863'"
      ]
     },
     "metadata": {},
     "output_type": "display_data"
    },
    {
     "data": {
      "text/plain": [
       "'TAZ 2931 Elapsed Seconds: 7.5573859214782715'"
      ]
     },
     "metadata": {},
     "output_type": "display_data"
    },
    {
     "data": {
      "text/plain": [
       "'TAZ 2932 Elapsed Seconds: 7.439368963241577'"
      ]
     },
     "metadata": {},
     "output_type": "display_data"
    },
    {
     "data": {
      "text/plain": [
       "'TAZ 2933 Elapsed Seconds: 7.700344085693359'"
      ]
     },
     "metadata": {},
     "output_type": "display_data"
    },
    {
     "data": {
      "text/plain": [
       "'TAZ 2934 Elapsed Seconds: 7.597045183181763'"
      ]
     },
     "metadata": {},
     "output_type": "display_data"
    },
    {
     "data": {
      "text/plain": [
       "'TAZ 2935 Elapsed Seconds: 7.3124003410339355'"
      ]
     },
     "metadata": {},
     "output_type": "display_data"
    },
    {
     "data": {
      "text/plain": [
       "'TAZ 2936 Elapsed Seconds: 7.460028648376465'"
      ]
     },
     "metadata": {},
     "output_type": "display_data"
    },
    {
     "data": {
      "text/plain": [
       "'TAZ 2937 Elapsed Seconds: 7.22510838508606'"
      ]
     },
     "metadata": {},
     "output_type": "display_data"
    },
    {
     "data": {
      "text/plain": [
       "'TAZ 2938 Elapsed Seconds: 7.574860572814941'"
      ]
     },
     "metadata": {},
     "output_type": "display_data"
    },
    {
     "data": {
      "text/plain": [
       "'TAZ 2939 Elapsed Seconds: 7.837483644485474'"
      ]
     },
     "metadata": {},
     "output_type": "display_data"
    },
    {
     "data": {
      "text/plain": [
       "'TAZ 2940 Elapsed Seconds: 7.9976983070373535'"
      ]
     },
     "metadata": {},
     "output_type": "display_data"
    },
    {
     "data": {
      "text/plain": [
       "'TAZ 2941 Elapsed Seconds: 7.723060369491577'"
      ]
     },
     "metadata": {},
     "output_type": "display_data"
    },
    {
     "data": {
      "text/plain": [
       "'TAZ 2942 Elapsed Seconds: 7.647836923599243'"
      ]
     },
     "metadata": {},
     "output_type": "display_data"
    },
    {
     "data": {
      "text/plain": [
       "'TAZ 2943 Elapsed Seconds: 7.601524591445923'"
      ]
     },
     "metadata": {},
     "output_type": "display_data"
    },
    {
     "data": {
      "text/plain": [
       "'TAZ 2944 Elapsed Seconds: 7.802414655685425'"
      ]
     },
     "metadata": {},
     "output_type": "display_data"
    },
    {
     "data": {
      "text/plain": [
       "'TAZ 2945 Elapsed Seconds: 7.754758596420288'"
      ]
     },
     "metadata": {},
     "output_type": "display_data"
    },
    {
     "data": {
      "text/plain": [
       "'TAZ 2946 Elapsed Seconds: 7.711343288421631'"
      ]
     },
     "metadata": {},
     "output_type": "display_data"
    },
    {
     "data": {
      "text/plain": [
       "'TAZ 2947 Elapsed Seconds: 8.33729600906372'"
      ]
     },
     "metadata": {},
     "output_type": "display_data"
    },
    {
     "data": {
      "text/plain": [
       "'TAZ 2948 Elapsed Seconds: 7.911900043487549'"
      ]
     },
     "metadata": {},
     "output_type": "display_data"
    },
    {
     "data": {
      "text/plain": [
       "'TAZ 2949 Elapsed Seconds: 7.927866458892822'"
      ]
     },
     "metadata": {},
     "output_type": "display_data"
    },
    {
     "data": {
      "text/plain": [
       "'TAZ 2950 Elapsed Seconds: 7.502948999404907'"
      ]
     },
     "metadata": {},
     "output_type": "display_data"
    },
    {
     "data": {
      "text/plain": [
       "'TAZ 2951 Elapsed Seconds: 7.675093173980713'"
      ]
     },
     "metadata": {},
     "output_type": "display_data"
    },
    {
     "data": {
      "text/plain": [
       "'TAZ 2952 Elapsed Seconds: 7.633054733276367'"
      ]
     },
     "metadata": {},
     "output_type": "display_data"
    },
    {
     "data": {
      "text/plain": [
       "'TAZ 2953 Elapsed Seconds: 7.681877136230469'"
      ]
     },
     "metadata": {},
     "output_type": "display_data"
    },
    {
     "data": {
      "text/plain": [
       "'TAZ 2954 Elapsed Seconds: 7.633093595504761'"
      ]
     },
     "metadata": {},
     "output_type": "display_data"
    },
    {
     "data": {
      "text/plain": [
       "'TAZ 2955 Elapsed Seconds: 7.655328035354614'"
      ]
     },
     "metadata": {},
     "output_type": "display_data"
    },
    {
     "data": {
      "text/plain": [
       "'TAZ 2956 Elapsed Seconds: 8.068496704101562'"
      ]
     },
     "metadata": {},
     "output_type": "display_data"
    },
    {
     "data": {
      "text/plain": [
       "'TAZ 2957 Elapsed Seconds: 7.781308889389038'"
      ]
     },
     "metadata": {},
     "output_type": "display_data"
    },
    {
     "data": {
      "text/plain": [
       "'TAZ 2958 Elapsed Seconds: 7.936651706695557'"
      ]
     },
     "metadata": {},
     "output_type": "display_data"
    },
    {
     "data": {
      "text/plain": [
       "'TAZ 2959 Elapsed Seconds: 8.046314716339111'"
      ]
     },
     "metadata": {},
     "output_type": "display_data"
    },
    {
     "data": {
      "text/plain": [
       "'TAZ 2960 Elapsed Seconds: 7.872568130493164'"
      ]
     },
     "metadata": {},
     "output_type": "display_data"
    },
    {
     "data": {
      "text/plain": [
       "'TAZ 2961 Elapsed Seconds: 7.79200291633606'"
      ]
     },
     "metadata": {},
     "output_type": "display_data"
    },
    {
     "data": {
      "text/plain": [
       "'TAZ 2962 Elapsed Seconds: 7.6713104248046875'"
      ]
     },
     "metadata": {},
     "output_type": "display_data"
    },
    {
     "data": {
      "text/plain": [
       "'TAZ 2963 Elapsed Seconds: 7.7699549198150635'"
      ]
     },
     "metadata": {},
     "output_type": "display_data"
    },
    {
     "data": {
      "text/plain": [
       "'TAZ 2964 Elapsed Seconds: 7.585637331008911'"
      ]
     },
     "metadata": {},
     "output_type": "display_data"
    },
    {
     "data": {
      "text/plain": [
       "'TAZ 2965 Elapsed Seconds: 7.827887058258057'"
      ]
     },
     "metadata": {},
     "output_type": "display_data"
    },
    {
     "data": {
      "text/plain": [
       "'TAZ 2966 Elapsed Seconds: 8.034271478652954'"
      ]
     },
     "metadata": {},
     "output_type": "display_data"
    },
    {
     "data": {
      "text/plain": [
       "'TAZ 2967 Elapsed Seconds: 8.60218596458435'"
      ]
     },
     "metadata": {},
     "output_type": "display_data"
    },
    {
     "data": {
      "text/plain": [
       "'TAZ 2968 Elapsed Seconds: 8.002776622772217'"
      ]
     },
     "metadata": {},
     "output_type": "display_data"
    },
    {
     "data": {
      "text/plain": [
       "'TAZ 2969 Elapsed Seconds: 8.878501176834106'"
      ]
     },
     "metadata": {},
     "output_type": "display_data"
    },
    {
     "data": {
      "text/plain": [
       "'TAZ 2970 Elapsed Seconds: 8.365602731704712'"
      ]
     },
     "metadata": {},
     "output_type": "display_data"
    },
    {
     "data": {
      "text/plain": [
       "'TAZ 2971 Elapsed Seconds: 8.455483436584473'"
      ]
     },
     "metadata": {},
     "output_type": "display_data"
    },
    {
     "data": {
      "text/plain": [
       "'TAZ 2972 Elapsed Seconds: 8.10798454284668'"
      ]
     },
     "metadata": {},
     "output_type": "display_data"
    },
    {
     "data": {
      "text/plain": [
       "'TAZ 2973 Elapsed Seconds: 8.089949607849121'"
      ]
     },
     "metadata": {},
     "output_type": "display_data"
    },
    {
     "data": {
      "text/plain": [
       "'TAZ 2974 Elapsed Seconds: 8.05515193939209'"
      ]
     },
     "metadata": {},
     "output_type": "display_data"
    },
    {
     "data": {
      "text/plain": [
       "'TAZ 2975 Elapsed Seconds: 8.196322679519653'"
      ]
     },
     "metadata": {},
     "output_type": "display_data"
    },
    {
     "data": {
      "text/plain": [
       "'TAZ 2976 Elapsed Seconds: 7.978195667266846'"
      ]
     },
     "metadata": {},
     "output_type": "display_data"
    },
    {
     "data": {
      "text/plain": [
       "'TAZ 2977 Elapsed Seconds: 7.8869078159332275'"
      ]
     },
     "metadata": {},
     "output_type": "display_data"
    },
    {
     "data": {
      "text/plain": [
       "'TAZ 2978 Elapsed Seconds: 8.04572343826294'"
      ]
     },
     "metadata": {},
     "output_type": "display_data"
    },
    {
     "data": {
      "text/plain": [
       "'TAZ 2979 Elapsed Seconds: 8.291277647018433'"
      ]
     },
     "metadata": {},
     "output_type": "display_data"
    },
    {
     "data": {
      "text/plain": [
       "'TAZ 2980 Elapsed Seconds: 8.122526168823242'"
      ]
     },
     "metadata": {},
     "output_type": "display_data"
    },
    {
     "data": {
      "text/plain": [
       "'TAZ 2981 Elapsed Seconds: 8.161900997161865'"
      ]
     },
     "metadata": {},
     "output_type": "display_data"
    },
    {
     "data": {
      "text/plain": [
       "'TAZ 2982 Elapsed Seconds: 8.19360613822937'"
      ]
     },
     "metadata": {},
     "output_type": "display_data"
    },
    {
     "data": {
      "text/plain": [
       "'TAZ 2983 Elapsed Seconds: 7.872535467147827'"
      ]
     },
     "metadata": {},
     "output_type": "display_data"
    },
    {
     "data": {
      "text/plain": [
       "'TAZ 2984 Elapsed Seconds: 7.876140832901001'"
      ]
     },
     "metadata": {},
     "output_type": "display_data"
    },
    {
     "data": {
      "text/plain": [
       "'TAZ 2985 Elapsed Seconds: 8.29932689666748'"
      ]
     },
     "metadata": {},
     "output_type": "display_data"
    },
    {
     "data": {
      "text/plain": [
       "'TAZ 2986 Elapsed Seconds: 8.325353860855103'"
      ]
     },
     "metadata": {},
     "output_type": "display_data"
    },
    {
     "data": {
      "text/plain": [
       "'TAZ 2987 Elapsed Seconds: 8.28159761428833'"
      ]
     },
     "metadata": {},
     "output_type": "display_data"
    },
    {
     "data": {
      "text/plain": [
       "'TAZ 2988 Elapsed Seconds: 8.024735450744629'"
      ]
     },
     "metadata": {},
     "output_type": "display_data"
    },
    {
     "data": {
      "text/plain": [
       "'TAZ 2989 Elapsed Seconds: 8.065698862075806'"
      ]
     },
     "metadata": {},
     "output_type": "display_data"
    },
    {
     "data": {
      "text/plain": [
       "'TAZ 2990 Elapsed Seconds: 7.907746315002441'"
      ]
     },
     "metadata": {},
     "output_type": "display_data"
    },
    {
     "data": {
      "text/plain": [
       "'TAZ 2991 Elapsed Seconds: 8.133187055587769'"
      ]
     },
     "metadata": {},
     "output_type": "display_data"
    },
    {
     "data": {
      "text/plain": [
       "'TAZ 2992 Elapsed Seconds: 8.398095846176147'"
      ]
     },
     "metadata": {},
     "output_type": "display_data"
    },
    {
     "data": {
      "text/plain": [
       "'TAZ 2993 Elapsed Seconds: 8.571271181106567'"
      ]
     },
     "metadata": {},
     "output_type": "display_data"
    },
    {
     "data": {
      "text/plain": [
       "'TAZ 2994 Elapsed Seconds: 8.111234903335571'"
      ]
     },
     "metadata": {},
     "output_type": "display_data"
    },
    {
     "data": {
      "text/plain": [
       "'TAZ 2995 Elapsed Seconds: 8.20647668838501'"
      ]
     },
     "metadata": {},
     "output_type": "display_data"
    },
    {
     "data": {
      "text/plain": [
       "'TAZ 2996 Elapsed Seconds: 7.938265800476074'"
      ]
     },
     "metadata": {},
     "output_type": "display_data"
    },
    {
     "data": {
      "text/plain": [
       "'TAZ 2997 Elapsed Seconds: 8.456461668014526'"
      ]
     },
     "metadata": {},
     "output_type": "display_data"
    },
    {
     "data": {
      "text/plain": [
       "'TAZ 2998 Elapsed Seconds: 8.422631978988647'"
      ]
     },
     "metadata": {},
     "output_type": "display_data"
    },
    {
     "data": {
      "text/plain": [
       "'TAZ 2999 Elapsed Seconds: 8.94685959815979'"
      ]
     },
     "metadata": {},
     "output_type": "display_data"
    },
    {
     "data": {
      "text/plain": [
       "'TAZ 3000 Elapsed Seconds: 8.498487710952759'"
      ]
     },
     "metadata": {},
     "output_type": "display_data"
    },
    {
     "data": {
      "text/plain": [
       "'TAZ 3001 Elapsed Seconds: 8.221888303756714'"
      ]
     },
     "metadata": {},
     "output_type": "display_data"
    },
    {
     "data": {
      "text/plain": [
       "'TAZ 3002 Elapsed Seconds: 8.142456293106079'"
      ]
     },
     "metadata": {},
     "output_type": "display_data"
    },
    {
     "data": {
      "text/plain": [
       "'TAZ 3003 Elapsed Seconds: 8.604045629501343'"
      ]
     },
     "metadata": {},
     "output_type": "display_data"
    },
    {
     "data": {
      "text/plain": [
       "'TAZ 3004 Elapsed Seconds: 8.510371446609497'"
      ]
     },
     "metadata": {},
     "output_type": "display_data"
    },
    {
     "data": {
      "text/plain": [
       "'TAZ 3005 Elapsed Seconds: 8.551155090332031'"
      ]
     },
     "metadata": {},
     "output_type": "display_data"
    },
    {
     "data": {
      "text/plain": [
       "'TAZ 3006 Elapsed Seconds: 8.467951774597168'"
      ]
     },
     "metadata": {},
     "output_type": "display_data"
    },
    {
     "data": {
      "text/plain": [
       "'TAZ 3007 Elapsed Seconds: 8.443220138549805'"
      ]
     },
     "metadata": {},
     "output_type": "display_data"
    },
    {
     "data": {
      "text/plain": [
       "'TAZ 3008 Elapsed Seconds: 8.186352729797363'"
      ]
     },
     "metadata": {},
     "output_type": "display_data"
    },
    {
     "data": {
      "text/plain": [
       "'TAZ 3009 Elapsed Seconds: 8.448789119720459'"
      ]
     },
     "metadata": {},
     "output_type": "display_data"
    },
    {
     "data": {
      "text/plain": [
       "'TAZ 3010 Elapsed Seconds: 8.458793878555298'"
      ]
     },
     "metadata": {},
     "output_type": "display_data"
    },
    {
     "data": {
      "text/plain": [
       "'TAZ 3011 Elapsed Seconds: 8.59242296218872'"
      ]
     },
     "metadata": {},
     "output_type": "display_data"
    },
    {
     "data": {
      "text/plain": [
       "'TAZ 3012 Elapsed Seconds: 8.46118950843811'"
      ]
     },
     "metadata": {},
     "output_type": "display_data"
    },
    {
     "data": {
      "text/plain": [
       "'TAZ 3013 Elapsed Seconds: 8.345118045806885'"
      ]
     },
     "metadata": {},
     "output_type": "display_data"
    },
    {
     "data": {
      "text/plain": [
       "'TAZ 3014 Elapsed Seconds: 8.452392101287842'"
      ]
     },
     "metadata": {},
     "output_type": "display_data"
    },
    {
     "data": {
      "text/plain": [
       "'TAZ 3015 Elapsed Seconds: 8.60111927986145'"
      ]
     },
     "metadata": {},
     "output_type": "display_data"
    },
    {
     "data": {
      "text/plain": [
       "'TAZ 3016 Elapsed Seconds: 8.725783109664917'"
      ]
     },
     "metadata": {},
     "output_type": "display_data"
    },
    {
     "data": {
      "text/plain": [
       "'TAZ 3017 Elapsed Seconds: 8.544390439987183'"
      ]
     },
     "metadata": {},
     "output_type": "display_data"
    },
    {
     "data": {
      "text/plain": [
       "'TAZ 3018 Elapsed Seconds: 8.623610973358154'"
      ]
     },
     "metadata": {},
     "output_type": "display_data"
    },
    {
     "data": {
      "text/plain": [
       "'TAZ 3019 Elapsed Seconds: 8.734222888946533'"
      ]
     },
     "metadata": {},
     "output_type": "display_data"
    },
    {
     "data": {
      "text/plain": [
       "'TAZ 3020 Elapsed Seconds: 8.346967935562134'"
      ]
     },
     "metadata": {},
     "output_type": "display_data"
    },
    {
     "data": {
      "text/plain": [
       "'TAZ 3021 Elapsed Seconds: 8.61847972869873'"
      ]
     },
     "metadata": {},
     "output_type": "display_data"
    },
    {
     "data": {
      "text/plain": [
       "'TAZ 3022 Elapsed Seconds: 8.956113338470459'"
      ]
     },
     "metadata": {},
     "output_type": "display_data"
    },
    {
     "data": {
      "text/plain": [
       "'TAZ 3023 Elapsed Seconds: 8.772476434707642'"
      ]
     },
     "metadata": {},
     "output_type": "display_data"
    },
    {
     "data": {
      "text/plain": [
       "'TAZ 3024 Elapsed Seconds: 8.634478330612183'"
      ]
     },
     "metadata": {},
     "output_type": "display_data"
    },
    {
     "data": {
      "text/plain": [
       "'TAZ 3025 Elapsed Seconds: 8.694097995758057'"
      ]
     },
     "metadata": {},
     "output_type": "display_data"
    },
    {
     "data": {
      "text/plain": [
       "'TAZ 3026 Elapsed Seconds: 8.403241872787476'"
      ]
     },
     "metadata": {},
     "output_type": "display_data"
    },
    {
     "data": {
      "text/plain": [
       "'TAZ 3027 Elapsed Seconds: 8.823736429214478'"
      ]
     },
     "metadata": {},
     "output_type": "display_data"
    },
    {
     "data": {
      "text/plain": [
       "'TAZ 3028 Elapsed Seconds: 8.815013885498047'"
      ]
     },
     "metadata": {},
     "output_type": "display_data"
    },
    {
     "data": {
      "text/plain": [
       "'TAZ 3029 Elapsed Seconds: 8.896933555603027'"
      ]
     },
     "metadata": {},
     "output_type": "display_data"
    },
    {
     "data": {
      "text/plain": [
       "'TAZ 3030 Elapsed Seconds: 8.813507556915283'"
      ]
     },
     "metadata": {},
     "output_type": "display_data"
    },
    {
     "data": {
      "text/plain": [
       "'TAZ 3031 Elapsed Seconds: 8.834809303283691'"
      ]
     },
     "metadata": {},
     "output_type": "display_data"
    },
    {
     "data": {
      "text/plain": [
       "'TAZ 3032 Elapsed Seconds: 8.659761428833008'"
      ]
     },
     "metadata": {},
     "output_type": "display_data"
    },
    {
     "data": {
      "text/plain": [
       "'TAZ 3033 Elapsed Seconds: 8.94519829750061'"
      ]
     },
     "metadata": {},
     "output_type": "display_data"
    },
    {
     "data": {
      "text/plain": [
       "'TAZ 3034 Elapsed Seconds: 8.82688307762146'"
      ]
     },
     "metadata": {},
     "output_type": "display_data"
    },
    {
     "data": {
      "text/plain": [
       "'TAZ 3036 Elapsed Seconds: 9.301867246627808'"
      ]
     },
     "metadata": {},
     "output_type": "display_data"
    },
    {
     "data": {
      "text/plain": [
       "'TAZ 3039 Elapsed Seconds: 9.039651870727539'"
      ]
     },
     "metadata": {},
     "output_type": "display_data"
    },
    {
     "data": {
      "text/plain": [
       "'TAZ 3040 Elapsed Seconds: 8.81948447227478'"
      ]
     },
     "metadata": {},
     "output_type": "display_data"
    },
    {
     "data": {
      "text/plain": [
       "'TAZ 3041 Elapsed Seconds: 8.729894876480103'"
      ]
     },
     "metadata": {},
     "output_type": "display_data"
    },
    {
     "data": {
      "text/plain": [
       "'TAZ 3042 Elapsed Seconds: 8.94566798210144'"
      ]
     },
     "metadata": {},
     "output_type": "display_data"
    },
    {
     "data": {
      "text/plain": [
       "'TAZ 3043 Elapsed Seconds: 8.960447549819946'"
      ]
     },
     "metadata": {},
     "output_type": "display_data"
    },
    {
     "data": {
      "text/plain": [
       "'TAZ 3044 Elapsed Seconds: 9.045619487762451'"
      ]
     },
     "metadata": {},
     "output_type": "display_data"
    },
    {
     "data": {
      "text/plain": [
       "'TAZ 3048 Elapsed Seconds: 9.1303129196167'"
      ]
     },
     "metadata": {},
     "output_type": "display_data"
    },
    {
     "data": {
      "text/plain": [
       "'TAZ 3051 Elapsed Seconds: 8.924170732498169'"
      ]
     },
     "metadata": {},
     "output_type": "display_data"
    },
    {
     "data": {
      "text/plain": [
       "'TAZ 3052 Elapsed Seconds: 8.857478618621826'"
      ]
     },
     "metadata": {},
     "output_type": "display_data"
    },
    {
     "data": {
      "text/plain": [
       "'TAZ 3057 Elapsed Seconds: 9.08863639831543'"
      ]
     },
     "metadata": {},
     "output_type": "display_data"
    },
    {
     "data": {
      "text/plain": [
       "'TAZ 3058 Elapsed Seconds: 9.026267051696777'"
      ]
     },
     "metadata": {},
     "output_type": "display_data"
    },
    {
     "data": {
      "text/plain": [
       "'TAZ 3059 Elapsed Seconds: 9.041804313659668'"
      ]
     },
     "metadata": {},
     "output_type": "display_data"
    },
    {
     "data": {
      "text/plain": [
       "'TAZ 3060 Elapsed Seconds: 9.106224060058594'"
      ]
     },
     "metadata": {},
     "output_type": "display_data"
    },
    {
     "data": {
      "text/plain": [
       "'TAZ 3061 Elapsed Seconds: 9.242692947387695'"
      ]
     },
     "metadata": {},
     "output_type": "display_data"
    },
    {
     "data": {
      "text/plain": [
       "'TAZ 3062 Elapsed Seconds: 9.171491384506226'"
      ]
     },
     "metadata": {},
     "output_type": "display_data"
    },
    {
     "data": {
      "text/plain": [
       "'TAZ 3063 Elapsed Seconds: 9.307409286499023'"
      ]
     },
     "metadata": {},
     "output_type": "display_data"
    },
    {
     "data": {
      "text/plain": [
       "'TAZ 3064 Elapsed Seconds: 9.241876363754272'"
      ]
     },
     "metadata": {},
     "output_type": "display_data"
    },
    {
     "data": {
      "text/plain": [
       "'TAZ 3065 Elapsed Seconds: 9.430410146713257'"
      ]
     },
     "metadata": {},
     "output_type": "display_data"
    },
    {
     "data": {
      "text/plain": [
       "'TAZ 3066 Elapsed Seconds: 9.039838314056396'"
      ]
     },
     "metadata": {},
     "output_type": "display_data"
    },
    {
     "data": {
      "text/plain": [
       "'TAZ 3067 Elapsed Seconds: 9.444741249084473'"
      ]
     },
     "metadata": {},
     "output_type": "display_data"
    },
    {
     "data": {
      "text/plain": [
       "'TAZ 3068 Elapsed Seconds: 9.800900220870972'"
      ]
     },
     "metadata": {},
     "output_type": "display_data"
    },
    {
     "data": {
      "text/plain": [
       "'TAZ 3069 Elapsed Seconds: 10.019366025924683'"
      ]
     },
     "metadata": {},
     "output_type": "display_data"
    },
    {
     "data": {
      "text/plain": [
       "'TAZ 3070 Elapsed Seconds: 9.913982629776001'"
      ]
     },
     "metadata": {},
     "output_type": "display_data"
    },
    {
     "data": {
      "text/plain": [
       "'TAZ 3071 Elapsed Seconds: 9.613330364227295'"
      ]
     },
     "metadata": {},
     "output_type": "display_data"
    },
    {
     "data": {
      "text/plain": [
       "'TAZ 3072 Elapsed Seconds: 9.443244457244873'"
      ]
     },
     "metadata": {},
     "output_type": "display_data"
    },
    {
     "data": {
      "text/plain": [
       "'TAZ 3073 Elapsed Seconds: 9.383344650268555'"
      ]
     },
     "metadata": {},
     "output_type": "display_data"
    },
    {
     "data": {
      "text/plain": [
       "'TAZ 3074 Elapsed Seconds: 9.60603642463684'"
      ]
     },
     "metadata": {},
     "output_type": "display_data"
    },
    {
     "data": {
      "text/plain": [
       "'TAZ 3076 Elapsed Seconds: 9.337790250778198'"
      ]
     },
     "metadata": {},
     "output_type": "display_data"
    },
    {
     "data": {
      "text/plain": [
       "'TAZ 3077 Elapsed Seconds: 9.322347640991211'"
      ]
     },
     "metadata": {},
     "output_type": "display_data"
    },
    {
     "data": {
      "text/plain": [
       "'TAZ 3078 Elapsed Seconds: 9.53890609741211'"
      ]
     },
     "metadata": {},
     "output_type": "display_data"
    },
    {
     "data": {
      "text/plain": [
       "'TAZ 3079 Elapsed Seconds: 9.236161708831787'"
      ]
     },
     "metadata": {},
     "output_type": "display_data"
    },
    {
     "data": {
      "text/plain": [
       "'TAZ 3080 Elapsed Seconds: 9.503159761428833'"
      ]
     },
     "metadata": {},
     "output_type": "display_data"
    },
    {
     "data": {
      "text/plain": [
       "'TAZ 3081 Elapsed Seconds: 9.429425239562988'"
      ]
     },
     "metadata": {},
     "output_type": "display_data"
    },
    {
     "data": {
      "text/plain": [
       "'TAZ 3082 Elapsed Seconds: 9.653210163116455'"
      ]
     },
     "metadata": {},
     "output_type": "display_data"
    },
    {
     "data": {
      "text/plain": [
       "'TAZ 3083 Elapsed Seconds: 9.53951358795166'"
      ]
     },
     "metadata": {},
     "output_type": "display_data"
    },
    {
     "data": {
      "text/plain": [
       "'TAZ 3084 Elapsed Seconds: 9.371936798095703'"
      ]
     },
     "metadata": {},
     "output_type": "display_data"
    },
    {
     "data": {
      "text/plain": [
       "'TAZ 3086 Elapsed Seconds: 9.633545398712158'"
      ]
     },
     "metadata": {},
     "output_type": "display_data"
    },
    {
     "data": {
      "text/plain": [
       "'TAZ 3087 Elapsed Seconds: 9.67191481590271'"
      ]
     },
     "metadata": {},
     "output_type": "display_data"
    },
    {
     "data": {
      "text/plain": [
       "'TAZ 3088 Elapsed Seconds: 9.754173755645752'"
      ]
     },
     "metadata": {},
     "output_type": "display_data"
    },
    {
     "data": {
      "text/plain": [
       "'TAZ 3089 Elapsed Seconds: 9.609427452087402'"
      ]
     },
     "metadata": {},
     "output_type": "display_data"
    },
    {
     "data": {
      "text/plain": [
       "'TAZ 3090 Elapsed Seconds: 9.465104341506958'"
      ]
     },
     "metadata": {},
     "output_type": "display_data"
    },
    {
     "data": {
      "text/plain": [
       "'TAZ 3091 Elapsed Seconds: 9.39615535736084'"
      ]
     },
     "metadata": {},
     "output_type": "display_data"
    },
    {
     "data": {
      "text/plain": [
       "'TAZ 3092 Elapsed Seconds: 9.781522512435913'"
      ]
     },
     "metadata": {},
     "output_type": "display_data"
    },
    {
     "data": {
      "text/plain": [
       "'TAZ 3093 Elapsed Seconds: 9.676244020462036'"
      ]
     },
     "metadata": {},
     "output_type": "display_data"
    },
    {
     "data": {
      "text/plain": [
       "'TAZ 3094 Elapsed Seconds: 9.787572622299194'"
      ]
     },
     "metadata": {},
     "output_type": "display_data"
    },
    {
     "data": {
      "text/plain": [
       "'TAZ 3095 Elapsed Seconds: 9.779677391052246'"
      ]
     },
     "metadata": {},
     "output_type": "display_data"
    },
    {
     "data": {
      "text/plain": [
       "'TAZ 3096 Elapsed Seconds: 9.536325693130493'"
      ]
     },
     "metadata": {},
     "output_type": "display_data"
    },
    {
     "data": {
      "text/plain": [
       "'TAZ 3097 Elapsed Seconds: 11.568121910095215'"
      ]
     },
     "metadata": {},
     "output_type": "display_data"
    },
    {
     "data": {
      "text/plain": [
       "'TAZ 3098 Elapsed Seconds: 10.606409549713135'"
      ]
     },
     "metadata": {},
     "output_type": "display_data"
    },
    {
     "data": {
      "text/plain": [
       "'TAZ 3099 Elapsed Seconds: 9.840944766998291'"
      ]
     },
     "metadata": {},
     "output_type": "display_data"
    },
    {
     "data": {
      "text/plain": [
       "'TAZ 3100 Elapsed Seconds: 9.752834558486938'"
      ]
     },
     "metadata": {},
     "output_type": "display_data"
    },
    {
     "data": {
      "text/plain": [
       "'TAZ 3101 Elapsed Seconds: 9.832753896713257'"
      ]
     },
     "metadata": {},
     "output_type": "display_data"
    },
    {
     "data": {
      "text/plain": [
       "'TAZ 3102 Elapsed Seconds: 9.850811004638672'"
      ]
     },
     "metadata": {},
     "output_type": "display_data"
    },
    {
     "data": {
      "text/plain": [
       "'TAZ 3103 Elapsed Seconds: 10.18626356124878'"
      ]
     },
     "metadata": {},
     "output_type": "display_data"
    },
    {
     "data": {
      "text/plain": [
       "'TAZ 3104 Elapsed Seconds: 10.001587152481079'"
      ]
     },
     "metadata": {},
     "output_type": "display_data"
    },
    {
     "data": {
      "text/plain": [
       "'TAZ 3105 Elapsed Seconds: 10.001571416854858'"
      ]
     },
     "metadata": {},
     "output_type": "display_data"
    },
    {
     "data": {
      "text/plain": [
       "'TAZ 3106 Elapsed Seconds: 9.874943971633911'"
      ]
     },
     "metadata": {},
     "output_type": "display_data"
    },
    {
     "data": {
      "text/plain": [
       "'TAZ 3107 Elapsed Seconds: 9.653761386871338'"
      ]
     },
     "metadata": {},
     "output_type": "display_data"
    },
    {
     "data": {
      "text/plain": [
       "'TAZ 3110 Elapsed Seconds: 10.093237400054932'"
      ]
     },
     "metadata": {},
     "output_type": "display_data"
    },
    {
     "data": {
      "text/plain": [
       "'TAZ 3111 Elapsed Seconds: 9.908080577850342'"
      ]
     },
     "metadata": {},
     "output_type": "display_data"
    },
    {
     "data": {
      "text/plain": [
       "'TAZ 3116 Elapsed Seconds: 10.316612243652344'"
      ]
     },
     "metadata": {},
     "output_type": "display_data"
    },
    {
     "data": {
      "text/plain": [
       "'TAZ 3117 Elapsed Seconds: 10.062269449234009'"
      ]
     },
     "metadata": {},
     "output_type": "display_data"
    },
    {
     "data": {
      "text/plain": [
       "'TAZ 3118 Elapsed Seconds: 9.842155456542969'"
      ]
     },
     "metadata": {},
     "output_type": "display_data"
    },
    {
     "data": {
      "text/plain": [
       "'TAZ 3119 Elapsed Seconds: 10.248847246170044'"
      ]
     },
     "metadata": {},
     "output_type": "display_data"
    },
    {
     "data": {
      "text/plain": [
       "'TAZ 3126 Elapsed Seconds: 10.280083417892456'"
      ]
     },
     "metadata": {},
     "output_type": "display_data"
    },
    {
     "data": {
      "text/plain": [
       "'TAZ 3127 Elapsed Seconds: 10.051402568817139'"
      ]
     },
     "metadata": {},
     "output_type": "display_data"
    },
    {
     "data": {
      "text/plain": [
       "'TAZ 3132 Elapsed Seconds: 10.250951766967773'"
      ]
     },
     "metadata": {},
     "output_type": "display_data"
    },
    {
     "data": {
      "text/plain": [
       "'TAZ 3135 Elapsed Seconds: 10.138893127441406'"
      ]
     },
     "metadata": {},
     "output_type": "display_data"
    },
    {
     "data": {
      "text/plain": [
       "'TAZ 3136 Elapsed Seconds: 10.465842485427856'"
      ]
     },
     "metadata": {},
     "output_type": "display_data"
    },
    {
     "data": {
      "text/plain": [
       "'TAZ 3137 Elapsed Seconds: 10.310229063034058'"
      ]
     },
     "metadata": {},
     "output_type": "display_data"
    },
    {
     "data": {
      "text/plain": [
       "'TAZ 3138 Elapsed Seconds: 10.19723629951477'"
      ]
     },
     "metadata": {},
     "output_type": "display_data"
    },
    {
     "data": {
      "text/plain": [
       "'TAZ 3139 Elapsed Seconds: 10.225643634796143'"
      ]
     },
     "metadata": {},
     "output_type": "display_data"
    },
    {
     "data": {
      "text/plain": [
       "'TAZ 3140 Elapsed Seconds: 10.126449584960938'"
      ]
     },
     "metadata": {},
     "output_type": "display_data"
    },
    {
     "data": {
      "text/plain": [
       "'TAZ 3141 Elapsed Seconds: 10.281519889831543'"
      ]
     },
     "metadata": {},
     "output_type": "display_data"
    },
    {
     "data": {
      "text/plain": [
       "'TAZ 3142 Elapsed Seconds: 10.334224939346313'"
      ]
     },
     "metadata": {},
     "output_type": "display_data"
    },
    {
     "data": {
      "text/plain": [
       "'TAZ 3143 Elapsed Seconds: 10.435816526412964'"
      ]
     },
     "metadata": {},
     "output_type": "display_data"
    },
    {
     "data": {
      "text/plain": [
       "'TAZ 3144 Elapsed Seconds: 10.411983013153076'"
      ]
     },
     "metadata": {},
     "output_type": "display_data"
    },
    {
     "data": {
      "text/plain": [
       "'TAZ 3145 Elapsed Seconds: 10.282073736190796'"
      ]
     },
     "metadata": {},
     "output_type": "display_data"
    },
    {
     "data": {
      "text/plain": [
       "'TAZ 3146 Elapsed Seconds: 10.432092666625977'"
      ]
     },
     "metadata": {},
     "output_type": "display_data"
    },
    {
     "data": {
      "text/plain": [
       "'TAZ 3147 Elapsed Seconds: 10.547754287719727'"
      ]
     },
     "metadata": {},
     "output_type": "display_data"
    },
    {
     "data": {
      "text/plain": [
       "'TAZ 3148 Elapsed Seconds: 10.498372793197632'"
      ]
     },
     "metadata": {},
     "output_type": "display_data"
    },
    {
     "data": {
      "text/plain": [
       "'TAZ 3149 Elapsed Seconds: 10.52127742767334'"
      ]
     },
     "metadata": {},
     "output_type": "display_data"
    },
    {
     "data": {
      "text/plain": [
       "'TAZ 3150 Elapsed Seconds: 10.429749727249146'"
      ]
     },
     "metadata": {},
     "output_type": "display_data"
    },
    {
     "data": {
      "text/plain": [
       "'TAZ 3151 Elapsed Seconds: 10.782970428466797'"
      ]
     },
     "metadata": {},
     "output_type": "display_data"
    },
    {
     "data": {
      "text/plain": [
       "'TAZ 3152 Elapsed Seconds: 10.65648341178894'"
      ]
     },
     "metadata": {},
     "output_type": "display_data"
    },
    {
     "data": {
      "text/plain": [
       "'TAZ 3153 Elapsed Seconds: 10.792091846466064'"
      ]
     },
     "metadata": {},
     "output_type": "display_data"
    },
    {
     "data": {
      "text/plain": [
       "'TAZ 3154 Elapsed Seconds: 10.831228017807007'"
      ]
     },
     "metadata": {},
     "output_type": "display_data"
    },
    {
     "data": {
      "text/plain": [
       "'TAZ 3155 Elapsed Seconds: 10.537164449691772'"
      ]
     },
     "metadata": {},
     "output_type": "display_data"
    },
    {
     "data": {
      "text/plain": [
       "'TAZ 3156 Elapsed Seconds: 10.743839502334595'"
      ]
     },
     "metadata": {},
     "output_type": "display_data"
    },
    {
     "data": {
      "text/plain": [
       "'TAZ 3157 Elapsed Seconds: 10.617516040802002'"
      ]
     },
     "metadata": {},
     "output_type": "display_data"
    },
    {
     "data": {
      "text/plain": [
       "'TAZ 3158 Elapsed Seconds: 10.739395380020142'"
      ]
     },
     "metadata": {},
     "output_type": "display_data"
    },
    {
     "data": {
      "text/plain": [
       "'TAZ 3162 Elapsed Seconds: 10.89423155784607'"
      ]
     },
     "metadata": {},
     "output_type": "display_data"
    },
    {
     "data": {
      "text/plain": [
       "'TAZ 3163 Elapsed Seconds: 10.732328176498413'"
      ]
     },
     "metadata": {},
     "output_type": "display_data"
    },
    {
     "data": {
      "text/plain": [
       "'TAZ 3164 Elapsed Seconds: 11.081612348556519'"
      ]
     },
     "metadata": {},
     "output_type": "display_data"
    },
    {
     "data": {
      "text/plain": [
       "'TAZ 3165 Elapsed Seconds: 10.943998575210571'"
      ]
     },
     "metadata": {},
     "output_type": "display_data"
    },
    {
     "data": {
      "text/plain": [
       "'TAZ 3166 Elapsed Seconds: 10.779335498809814'"
      ]
     },
     "metadata": {},
     "output_type": "display_data"
    },
    {
     "data": {
      "text/plain": [
       "'TAZ 3167 Elapsed Seconds: 10.80692434310913'"
      ]
     },
     "metadata": {},
     "output_type": "display_data"
    },
    {
     "data": {
      "text/plain": [
       "'TAZ 3168 Elapsed Seconds: 11.068883895874023'"
      ]
     },
     "metadata": {},
     "output_type": "display_data"
    },
    {
     "data": {
      "text/plain": [
       "'TAZ 3169 Elapsed Seconds: 11.036386728286743'"
      ]
     },
     "metadata": {},
     "output_type": "display_data"
    },
    {
     "data": {
      "text/plain": [
       "'TAZ 3170 Elapsed Seconds: 10.852336883544922'"
      ]
     },
     "metadata": {},
     "output_type": "display_data"
    },
    {
     "data": {
      "text/plain": [
       "'TAZ 3171 Elapsed Seconds: 10.862621784210205'"
      ]
     },
     "metadata": {},
     "output_type": "display_data"
    },
    {
     "data": {
      "text/plain": [
       "'TAZ 3172 Elapsed Seconds: 10.971882581710815'"
      ]
     },
     "metadata": {},
     "output_type": "display_data"
    },
    {
     "data": {
      "text/plain": [
       "'TAZ 3173 Elapsed Seconds: 10.965211153030396'"
      ]
     },
     "metadata": {},
     "output_type": "display_data"
    },
    {
     "data": {
      "text/plain": [
       "'TAZ 3174 Elapsed Seconds: 11.205073833465576'"
      ]
     },
     "metadata": {},
     "output_type": "display_data"
    },
    {
     "data": {
      "text/plain": [
       "'TAZ 3175 Elapsed Seconds: 11.077634811401367'"
      ]
     },
     "metadata": {},
     "output_type": "display_data"
    },
    {
     "data": {
      "text/plain": [
       "'TAZ 3176 Elapsed Seconds: 11.04048776626587'"
      ]
     },
     "metadata": {},
     "output_type": "display_data"
    },
    {
     "data": {
      "text/plain": [
       "'TAZ 3177 Elapsed Seconds: 11.041344165802002'"
      ]
     },
     "metadata": {},
     "output_type": "display_data"
    },
    {
     "data": {
      "text/plain": [
       "'TAZ 3178 Elapsed Seconds: 11.106640577316284'"
      ]
     },
     "metadata": {},
     "output_type": "display_data"
    },
    {
     "data": {
      "text/plain": [
       "'TAZ 3179 Elapsed Seconds: 11.264061212539673'"
      ]
     },
     "metadata": {},
     "output_type": "display_data"
    },
    {
     "data": {
      "text/plain": [
       "'TAZ 3180 Elapsed Seconds: 11.124974250793457'"
      ]
     },
     "metadata": {},
     "output_type": "display_data"
    },
    {
     "data": {
      "text/plain": [
       "'TAZ 3181 Elapsed Seconds: 11.046664237976074'"
      ]
     },
     "metadata": {},
     "output_type": "display_data"
    },
    {
     "data": {
      "text/plain": [
       "'TAZ 3182 Elapsed Seconds: 11.138533592224121'"
      ]
     },
     "metadata": {},
     "output_type": "display_data"
    },
    {
     "data": {
      "text/plain": [
       "'TAZ 3183 Elapsed Seconds: 11.38484501838684'"
      ]
     },
     "metadata": {},
     "output_type": "display_data"
    },
    {
     "data": {
      "text/plain": [
       "'TAZ 3184 Elapsed Seconds: 11.81057095527649'"
      ]
     },
     "metadata": {},
     "output_type": "display_data"
    },
    {
     "data": {
      "text/plain": [
       "'TAZ 3185 Elapsed Seconds: 11.626063108444214'"
      ]
     },
     "metadata": {},
     "output_type": "display_data"
    },
    {
     "data": {
      "text/plain": [
       "'TAZ 3186 Elapsed Seconds: 11.2317955493927'"
      ]
     },
     "metadata": {},
     "output_type": "display_data"
    },
    {
     "data": {
      "text/plain": [
       "'TAZ 3187 Elapsed Seconds: 11.390442848205566'"
      ]
     },
     "metadata": {},
     "output_type": "display_data"
    },
    {
     "data": {
      "text/plain": [
       "'TAZ 3188 Elapsed Seconds: 11.458867311477661'"
      ]
     },
     "metadata": {},
     "output_type": "display_data"
    },
    {
     "data": {
      "text/plain": [
       "'TAZ 3190 Elapsed Seconds: 11.314538478851318'"
      ]
     },
     "metadata": {},
     "output_type": "display_data"
    },
    {
     "data": {
      "text/plain": [
       "'TAZ 3191 Elapsed Seconds: 11.588245868682861'"
      ]
     },
     "metadata": {},
     "output_type": "display_data"
    },
    {
     "data": {
      "text/plain": [
       "'TAZ 3192 Elapsed Seconds: 11.414408922195435'"
      ]
     },
     "metadata": {},
     "output_type": "display_data"
    },
    {
     "data": {
      "text/plain": [
       "'TAZ 3193 Elapsed Seconds: 11.328103065490723'"
      ]
     },
     "metadata": {},
     "output_type": "display_data"
    },
    {
     "data": {
      "text/plain": [
       "'TAZ 3195 Elapsed Seconds: 11.475788354873657'"
      ]
     },
     "metadata": {},
     "output_type": "display_data"
    },
    {
     "data": {
      "text/plain": [
       "'TAZ 3196 Elapsed Seconds: 11.554477453231812'"
      ]
     },
     "metadata": {},
     "output_type": "display_data"
    },
    {
     "data": {
      "text/plain": [
       "'TAZ 3197 Elapsed Seconds: 11.658304691314697'"
      ]
     },
     "metadata": {},
     "output_type": "display_data"
    },
    {
     "data": {
      "text/plain": [
       "'TAZ 3198 Elapsed Seconds: 11.523458242416382'"
      ]
     },
     "metadata": {},
     "output_type": "display_data"
    },
    {
     "data": {
      "text/plain": [
       "'TAZ 3204 Elapsed Seconds: 11.699044942855835'"
      ]
     },
     "metadata": {},
     "output_type": "display_data"
    },
    {
     "data": {
      "text/plain": [
       "'TAZ 3207 Elapsed Seconds: 11.594280481338501'"
      ]
     },
     "metadata": {},
     "output_type": "display_data"
    },
    {
     "data": {
      "text/plain": [
       "'TAZ 3208 Elapsed Seconds: 11.648606061935425'"
      ]
     },
     "metadata": {},
     "output_type": "display_data"
    },
    {
     "data": {
      "text/plain": [
       "'TAZ 3209 Elapsed Seconds: 12.09968638420105'"
      ]
     },
     "metadata": {},
     "output_type": "display_data"
    },
    {
     "data": {
      "text/plain": [
       "'TAZ 3210 Elapsed Seconds: 11.602419376373291'"
      ]
     },
     "metadata": {},
     "output_type": "display_data"
    },
    {
     "data": {
      "text/plain": [
       "'TAZ 3211 Elapsed Seconds: 11.640758275985718'"
      ]
     },
     "metadata": {},
     "output_type": "display_data"
    },
    {
     "data": {
      "text/plain": [
       "'TAZ 3212 Elapsed Seconds: 11.837457418441772'"
      ]
     },
     "metadata": {},
     "output_type": "display_data"
    },
    {
     "data": {
      "text/plain": [
       "'TAZ 3213 Elapsed Seconds: 11.852595806121826'"
      ]
     },
     "metadata": {},
     "output_type": "display_data"
    },
    {
     "data": {
      "text/plain": [
       "'TAZ 3215 Elapsed Seconds: 11.746170282363892'"
      ]
     },
     "metadata": {},
     "output_type": "display_data"
    },
    {
     "data": {
      "text/plain": [
       "'TAZ 3216 Elapsed Seconds: 11.892276525497437'"
      ]
     },
     "metadata": {},
     "output_type": "display_data"
    },
    {
     "data": {
      "text/plain": [
       "'TAZ 3217 Elapsed Seconds: 11.846454858779907'"
      ]
     },
     "metadata": {},
     "output_type": "display_data"
    },
    {
     "data": {
      "text/plain": [
       "'TAZ 3218 Elapsed Seconds: 11.832485914230347'"
      ]
     },
     "metadata": {},
     "output_type": "display_data"
    },
    {
     "data": {
      "text/plain": [
       "'TAZ 3233 Elapsed Seconds: 12.196768522262573'"
      ]
     },
     "metadata": {},
     "output_type": "display_data"
    },
    {
     "data": {
      "text/plain": [
       "'TAZ 3235 Elapsed Seconds: 12.147026300430298'"
      ]
     },
     "metadata": {},
     "output_type": "display_data"
    },
    {
     "data": {
      "text/plain": [
       "'TAZ 3238 Elapsed Seconds: 12.022383689880371'"
      ]
     },
     "metadata": {},
     "output_type": "display_data"
    },
    {
     "data": {
      "text/plain": [
       "'TAZ 3307 Elapsed Seconds: 11.924337148666382'"
      ]
     },
     "metadata": {},
     "output_type": "display_data"
    },
    {
     "data": {
      "text/plain": [
       "'TAZ 3308 Elapsed Seconds: 11.757029294967651'"
      ]
     },
     "metadata": {},
     "output_type": "display_data"
    },
    {
     "data": {
      "text/plain": [
       "'TAZ 3309 Elapsed Seconds: 11.977516174316406'"
      ]
     },
     "metadata": {},
     "output_type": "display_data"
    },
    {
     "data": {
      "text/plain": [
       "'TAZ 3314 Elapsed Seconds: 12.098599672317505'"
      ]
     },
     "metadata": {},
     "output_type": "display_data"
    },
    {
     "data": {
      "text/plain": [
       "'TAZ 3315 Elapsed Seconds: 12.04797887802124'"
      ]
     },
     "metadata": {},
     "output_type": "display_data"
    },
    {
     "data": {
      "text/plain": [
       "'TAZ 3320 Elapsed Seconds: 11.976890325546265'"
      ]
     },
     "metadata": {},
     "output_type": "display_data"
    },
    {
     "data": {
      "text/plain": [
       "'TAZ 3325 Elapsed Seconds: 12.000979661941528'"
      ]
     },
     "metadata": {},
     "output_type": "display_data"
    },
    {
     "data": {
      "text/plain": [
       "'TAZ 3326 Elapsed Seconds: 12.036592483520508'"
      ]
     },
     "metadata": {},
     "output_type": "display_data"
    },
    {
     "data": {
      "text/plain": [
       "'TAZ 3331 Elapsed Seconds: 12.23016881942749'"
      ]
     },
     "metadata": {},
     "output_type": "display_data"
    },
    {
     "data": {
      "text/plain": [
       "'TAZ 3334 Elapsed Seconds: 12.222920179367065'"
      ]
     },
     "metadata": {},
     "output_type": "display_data"
    },
    {
     "data": {
      "text/plain": [
       "'TAZ 3335 Elapsed Seconds: 12.276597261428833'"
      ]
     },
     "metadata": {},
     "output_type": "display_data"
    },
    {
     "data": {
      "text/plain": [
       "'TAZ 3336 Elapsed Seconds: 12.226139545440674'"
      ]
     },
     "metadata": {},
     "output_type": "display_data"
    },
    {
     "data": {
      "text/plain": [
       "'TAZ 3337 Elapsed Seconds: 12.283965826034546'"
      ]
     },
     "metadata": {},
     "output_type": "display_data"
    },
    {
     "data": {
      "text/plain": [
       "'TAZ 3338 Elapsed Seconds: 12.332473278045654'"
      ]
     },
     "metadata": {},
     "output_type": "display_data"
    },
    {
     "data": {
      "text/plain": [
       "'TAZ 3339 Elapsed Seconds: 12.397830486297607'"
      ]
     },
     "metadata": {},
     "output_type": "display_data"
    },
    {
     "data": {
      "text/plain": [
       "'TAZ 3340 Elapsed Seconds: 12.283897876739502'"
      ]
     },
     "metadata": {},
     "output_type": "display_data"
    },
    {
     "data": {
      "text/plain": [
       "'TAZ 3341 Elapsed Seconds: 12.588637113571167'"
      ]
     },
     "metadata": {},
     "output_type": "display_data"
    },
    {
     "data": {
      "text/plain": [
       "'TAZ 3342 Elapsed Seconds: 12.61323070526123'"
      ]
     },
     "metadata": {},
     "output_type": "display_data"
    },
    {
     "data": {
      "text/plain": [
       "'TAZ 3343 Elapsed Seconds: 12.622510433197021'"
      ]
     },
     "metadata": {},
     "output_type": "display_data"
    },
    {
     "data": {
      "text/plain": [
       "'TAZ 3344 Elapsed Seconds: 12.456422567367554'"
      ]
     },
     "metadata": {},
     "output_type": "display_data"
    },
    {
     "data": {
      "text/plain": [
       "'TAZ 3345 Elapsed Seconds: 12.588457345962524'"
      ]
     },
     "metadata": {},
     "output_type": "display_data"
    },
    {
     "data": {
      "text/plain": [
       "'TAZ 3346 Elapsed Seconds: 12.547274351119995'"
      ]
     },
     "metadata": {},
     "output_type": "display_data"
    },
    {
     "data": {
      "text/plain": [
       "'TAZ 3347 Elapsed Seconds: 12.59267282485962'"
      ]
     },
     "metadata": {},
     "output_type": "display_data"
    },
    {
     "data": {
      "text/plain": [
       "'TAZ 3348 Elapsed Seconds: 12.690516471862793'"
      ]
     },
     "metadata": {},
     "output_type": "display_data"
    },
    {
     "data": {
      "text/plain": [
       "'TAZ 3349 Elapsed Seconds: 12.598079442977905'"
      ]
     },
     "metadata": {},
     "output_type": "display_data"
    },
    {
     "data": {
      "text/plain": [
       "'TAZ 3350 Elapsed Seconds: 12.821568727493286'"
      ]
     },
     "metadata": {},
     "output_type": "display_data"
    },
    {
     "data": {
      "text/plain": [
       "'TAZ 3351 Elapsed Seconds: 12.797422409057617'"
      ]
     },
     "metadata": {},
     "output_type": "display_data"
    },
    {
     "data": {
      "text/plain": [
       "'TAZ 3352 Elapsed Seconds: 12.779874086380005'"
      ]
     },
     "metadata": {},
     "output_type": "display_data"
    },
    {
     "data": {
      "text/plain": [
       "'TAZ 3353 Elapsed Seconds: 13.005022525787354'"
      ]
     },
     "metadata": {},
     "output_type": "display_data"
    },
    {
     "data": {
      "text/plain": [
       "'TAZ 3354 Elapsed Seconds: 12.792396783828735'"
      ]
     },
     "metadata": {},
     "output_type": "display_data"
    },
    {
     "data": {
      "text/plain": [
       "'TAZ 3355 Elapsed Seconds: 12.996887445449829'"
      ]
     },
     "metadata": {},
     "output_type": "display_data"
    },
    {
     "data": {
      "text/plain": [
       "'TAZ 3356 Elapsed Seconds: 12.885143280029297'"
      ]
     },
     "metadata": {},
     "output_type": "display_data"
    },
    {
     "data": {
      "text/plain": [
       "'TAZ 3357 Elapsed Seconds: 12.99748945236206'"
      ]
     },
     "metadata": {},
     "output_type": "display_data"
    },
    {
     "data": {
      "text/plain": [
       "'TAZ 3358 Elapsed Seconds: 12.947916269302368'"
      ]
     },
     "metadata": {},
     "output_type": "display_data"
    },
    {
     "data": {
      "text/plain": [
       "'TAZ 3359 Elapsed Seconds: 13.055626153945923'"
      ]
     },
     "metadata": {},
     "output_type": "display_data"
    },
    {
     "data": {
      "text/plain": [
       "'TAZ 3360 Elapsed Seconds: 12.920902013778687'"
      ]
     },
     "metadata": {},
     "output_type": "display_data"
    },
    {
     "data": {
      "text/plain": [
       "'TAZ 3361 Elapsed Seconds: 13.02321481704712'"
      ]
     },
     "metadata": {},
     "output_type": "display_data"
    },
    {
     "data": {
      "text/plain": [
       "'TAZ 3362 Elapsed Seconds: 13.116372108459473'"
      ]
     },
     "metadata": {},
     "output_type": "display_data"
    },
    {
     "data": {
      "text/plain": [
       "'TAZ 3363 Elapsed Seconds: 13.119563102722168'"
      ]
     },
     "metadata": {},
     "output_type": "display_data"
    },
    {
     "data": {
      "text/plain": [
       "'TAZ 3364 Elapsed Seconds: 13.149619102478027'"
      ]
     },
     "metadata": {},
     "output_type": "display_data"
    },
    {
     "data": {
      "text/plain": [
       "'TAZ 3365 Elapsed Seconds: 13.212294101715088'"
      ]
     },
     "metadata": {},
     "output_type": "display_data"
    },
    {
     "data": {
      "text/plain": [
       "'TAZ 3366 Elapsed Seconds: 13.155536651611328'"
      ]
     },
     "metadata": {},
     "output_type": "display_data"
    },
    {
     "data": {
      "text/plain": [
       "'TAZ 3367 Elapsed Seconds: 13.208086252212524'"
      ]
     },
     "metadata": {},
     "output_type": "display_data"
    },
    {
     "data": {
      "text/plain": [
       "'TAZ 3371 Elapsed Seconds: 13.174769878387451'"
      ]
     },
     "metadata": {},
     "output_type": "display_data"
    },
    {
     "data": {
      "text/plain": [
       "'TAZ 3372 Elapsed Seconds: 13.278879642486572'"
      ]
     },
     "metadata": {},
     "output_type": "display_data"
    },
    {
     "data": {
      "text/plain": [
       "'TAZ 3373 Elapsed Seconds: 13.233231782913208'"
      ]
     },
     "metadata": {},
     "output_type": "display_data"
    },
    {
     "data": {
      "text/plain": [
       "'TAZ 3374 Elapsed Seconds: 13.492715835571289'"
      ]
     },
     "metadata": {},
     "output_type": "display_data"
    },
    {
     "data": {
      "text/plain": [
       "'TAZ 3375 Elapsed Seconds: 13.560587167739868'"
      ]
     },
     "metadata": {},
     "output_type": "display_data"
    },
    {
     "data": {
      "text/plain": [
       "'TAZ 3376 Elapsed Seconds: 13.891751050949097'"
      ]
     },
     "metadata": {},
     "output_type": "display_data"
    },
    {
     "data": {
      "text/plain": [
       "'TAZ 3377 Elapsed Seconds: 13.458004713058472'"
      ]
     },
     "metadata": {},
     "output_type": "display_data"
    },
    {
     "data": {
      "text/plain": [
       "'TAZ 3378 Elapsed Seconds: 13.596560955047607'"
      ]
     },
     "metadata": {},
     "output_type": "display_data"
    },
    {
     "data": {
      "text/plain": [
       "'TAZ 3379 Elapsed Seconds: 13.335758447647095'"
      ]
     },
     "metadata": {},
     "output_type": "display_data"
    },
    {
     "data": {
      "text/plain": [
       "'TAZ 3381 Elapsed Seconds: 13.5132155418396'"
      ]
     },
     "metadata": {},
     "output_type": "display_data"
    },
    {
     "data": {
      "text/plain": [
       "'TAZ 3383 Elapsed Seconds: 13.58814787864685'"
      ]
     },
     "metadata": {},
     "output_type": "display_data"
    },
    {
     "data": {
      "text/plain": [
       "'TAZ 3384 Elapsed Seconds: 13.654439687728882'"
      ]
     },
     "metadata": {},
     "output_type": "display_data"
    },
    {
     "data": {
      "text/plain": [
       "'TAZ 3385 Elapsed Seconds: 13.60239291191101'"
      ]
     },
     "metadata": {},
     "output_type": "display_data"
    },
    {
     "data": {
      "text/plain": [
       "'TAZ 3386 Elapsed Seconds: 13.738747835159302'"
      ]
     },
     "metadata": {},
     "output_type": "display_data"
    },
    {
     "data": {
      "text/plain": [
       "'TAZ 3387 Elapsed Seconds: 13.652044773101807'"
      ]
     },
     "metadata": {},
     "output_type": "display_data"
    },
    {
     "data": {
      "text/plain": [
       "'TAZ 3388 Elapsed Seconds: 13.649742603302002'"
      ]
     },
     "metadata": {},
     "output_type": "display_data"
    },
    {
     "data": {
      "text/plain": [
       "'TAZ 3389 Elapsed Seconds: 13.96766471862793'"
      ]
     },
     "metadata": {},
     "output_type": "display_data"
    },
    {
     "data": {
      "text/plain": [
       "'TAZ 3390 Elapsed Seconds: 13.824586391448975'"
      ]
     },
     "metadata": {},
     "output_type": "display_data"
    },
    {
     "data": {
      "text/plain": [
       "'TAZ 3391 Elapsed Seconds: 13.656551122665405'"
      ]
     },
     "metadata": {},
     "output_type": "display_data"
    },
    {
     "data": {
      "text/plain": [
       "'TAZ 3392 Elapsed Seconds: 13.7333984375'"
      ]
     },
     "metadata": {},
     "output_type": "display_data"
    },
    {
     "data": {
      "text/plain": [
       "'TAZ 3393 Elapsed Seconds: 13.873961925506592'"
      ]
     },
     "metadata": {},
     "output_type": "display_data"
    },
    {
     "data": {
      "text/plain": [
       "'TAZ 3394 Elapsed Seconds: 14.524911880493164'"
      ]
     },
     "metadata": {},
     "output_type": "display_data"
    },
    {
     "data": {
      "text/plain": [
       "'TAZ 3395 Elapsed Seconds: 13.806100368499756'"
      ]
     },
     "metadata": {},
     "output_type": "display_data"
    },
    {
     "data": {
      "text/plain": [
       "'TAZ 3396 Elapsed Seconds: 13.914937734603882'"
      ]
     },
     "metadata": {},
     "output_type": "display_data"
    },
    {
     "data": {
      "text/plain": [
       "'TAZ 3397 Elapsed Seconds: 13.969224452972412'"
      ]
     },
     "metadata": {},
     "output_type": "display_data"
    },
    {
     "data": {
      "text/plain": [
       "'TAZ 3398 Elapsed Seconds: 14.081674098968506'"
      ]
     },
     "metadata": {},
     "output_type": "display_data"
    },
    {
     "data": {
      "text/plain": [
       "'TAZ 3399 Elapsed Seconds: 14.005871295928955'"
      ]
     },
     "metadata": {},
     "output_type": "display_data"
    },
    {
     "data": {
      "text/plain": [
       "'TAZ 3400 Elapsed Seconds: 13.970140933990479'"
      ]
     },
     "metadata": {},
     "output_type": "display_data"
    },
    {
     "data": {
      "text/plain": [
       "'TAZ 3401 Elapsed Seconds: 13.894320726394653'"
      ]
     },
     "metadata": {},
     "output_type": "display_data"
    },
    {
     "data": {
      "text/plain": [
       "'TAZ 3402 Elapsed Seconds: 14.088910102844238'"
      ]
     },
     "metadata": {},
     "output_type": "display_data"
    },
    {
     "data": {
      "text/plain": [
       "'TAZ 3403 Elapsed Seconds: 14.12555718421936'"
      ]
     },
     "metadata": {},
     "output_type": "display_data"
    },
    {
     "data": {
      "text/plain": [
       "'TAZ 3404 Elapsed Seconds: 14.066139936447144'"
      ]
     },
     "metadata": {},
     "output_type": "display_data"
    },
    {
     "data": {
      "text/plain": [
       "'TAZ 3405 Elapsed Seconds: 14.009157419204712'"
      ]
     },
     "metadata": {},
     "output_type": "display_data"
    },
    {
     "data": {
      "text/plain": [
       "'TAZ 3406 Elapsed Seconds: 14.969810247421265'"
      ]
     },
     "metadata": {},
     "output_type": "display_data"
    },
    {
     "data": {
      "text/plain": [
       "'TAZ 3407 Elapsed Seconds: 14.252853155136108'"
      ]
     },
     "metadata": {},
     "output_type": "display_data"
    },
    {
     "data": {
      "text/plain": [
       "'TAZ 3408 Elapsed Seconds: 14.336884021759033'"
      ]
     },
     "metadata": {},
     "output_type": "display_data"
    },
    {
     "data": {
      "text/plain": [
       "'TAZ 3409 Elapsed Seconds: 14.228684663772583'"
      ]
     },
     "metadata": {},
     "output_type": "display_data"
    },
    {
     "data": {
      "text/plain": [
       "'TAZ 3410 Elapsed Seconds: 14.377224922180176'"
      ]
     },
     "metadata": {},
     "output_type": "display_data"
    },
    {
     "data": {
      "text/plain": [
       "'TAZ 3411 Elapsed Seconds: 14.370535373687744'"
      ]
     },
     "metadata": {},
     "output_type": "display_data"
    },
    {
     "data": {
      "text/plain": [
       "'TAZ 3412 Elapsed Seconds: 14.433905839920044'"
      ]
     },
     "metadata": {},
     "output_type": "display_data"
    },
    {
     "data": {
      "text/plain": [
       "'TAZ 3413 Elapsed Seconds: 14.40403699874878'"
      ]
     },
     "metadata": {},
     "output_type": "display_data"
    },
    {
     "data": {
      "text/plain": [
       "'TAZ 3414 Elapsed Seconds: 14.62317156791687'"
      ]
     },
     "metadata": {},
     "output_type": "display_data"
    },
    {
     "data": {
      "text/plain": [
       "'TAZ 3415 Elapsed Seconds: 14.538009881973267'"
      ]
     },
     "metadata": {},
     "output_type": "display_data"
    },
    {
     "data": {
      "text/plain": [
       "'TAZ 3417 Elapsed Seconds: 14.457990169525146'"
      ]
     },
     "metadata": {},
     "output_type": "display_data"
    },
    {
     "data": {
      "text/plain": [
       "'TAZ 3418 Elapsed Seconds: 14.3798828125'"
      ]
     },
     "metadata": {},
     "output_type": "display_data"
    },
    {
     "data": {
      "text/plain": [
       "'TAZ 3419 Elapsed Seconds: 14.804264783859253'"
      ]
     },
     "metadata": {},
     "output_type": "display_data"
    },
    {
     "data": {
      "text/plain": [
       "'TAZ 3420 Elapsed Seconds: 14.709925651550293'"
      ]
     },
     "metadata": {},
     "output_type": "display_data"
    },
    {
     "data": {
      "text/plain": [
       "'TAZ 3421 Elapsed Seconds: 14.692262887954712'"
      ]
     },
     "metadata": {},
     "output_type": "display_data"
    },
    {
     "data": {
      "text/plain": [
       "'TAZ 3423 Elapsed Seconds: 14.675055503845215'"
      ]
     },
     "metadata": {},
     "output_type": "display_data"
    },
    {
     "data": {
      "text/plain": [
       "'TAZ 3431 Elapsed Seconds: 14.71887755393982'"
      ]
     },
     "metadata": {},
     "output_type": "display_data"
    },
    {
     "data": {
      "text/plain": [
       "'TAZ 3432 Elapsed Seconds: 14.87179446220398'"
      ]
     },
     "metadata": {},
     "output_type": "display_data"
    },
    {
     "data": {
      "text/plain": [
       "'TAZ 3433 Elapsed Seconds: 14.765791893005371'"
      ]
     },
     "metadata": {},
     "output_type": "display_data"
    },
    {
     "data": {
      "text/plain": [
       "'TAZ 3440 Elapsed Seconds: 15.003089427947998'"
      ]
     },
     "metadata": {},
     "output_type": "display_data"
    },
    {
     "data": {
      "text/plain": [
       "'TAZ 3441 Elapsed Seconds: 15.01489806175232'"
      ]
     },
     "metadata": {},
     "output_type": "display_data"
    },
    {
     "data": {
      "text/plain": [
       "'TAZ 3448 Elapsed Seconds: 14.985550880432129'"
      ]
     },
     "metadata": {},
     "output_type": "display_data"
    },
    {
     "data": {
      "text/plain": [
       "'TAZ 3449 Elapsed Seconds: 14.90794038772583'"
      ]
     },
     "metadata": {},
     "output_type": "display_data"
    },
    {
     "data": {
      "text/plain": [
       "'TAZ 3453 Elapsed Seconds: 15.056687831878662'"
      ]
     },
     "metadata": {},
     "output_type": "display_data"
    },
    {
     "data": {
      "text/plain": [
       "'TAZ 3454 Elapsed Seconds: 15.016227006912231'"
      ]
     },
     "metadata": {},
     "output_type": "display_data"
    },
    {
     "data": {
      "text/plain": [
       "'TAZ 3455 Elapsed Seconds: 15.127442598342896'"
      ]
     },
     "metadata": {},
     "output_type": "display_data"
    },
    {
     "data": {
      "text/plain": [
       "'TAZ 3461 Elapsed Seconds: 14.922548532485962'"
      ]
     },
     "metadata": {},
     "output_type": "display_data"
    },
    {
     "data": {
      "text/plain": [
       "'TAZ 3462 Elapsed Seconds: 14.998746871948242'"
      ]
     },
     "metadata": {},
     "output_type": "display_data"
    },
    {
     "data": {
      "text/plain": [
       "'TAZ 3463 Elapsed Seconds: 15.037339925765991'"
      ]
     },
     "metadata": {},
     "output_type": "display_data"
    },
    {
     "data": {
      "text/plain": [
       "'TAZ 3502 Elapsed Seconds: 15.116442203521729'"
      ]
     },
     "metadata": {},
     "output_type": "display_data"
    },
    {
     "data": {
      "text/plain": [
       "'TAZ 3503 Elapsed Seconds: 15.09951114654541'"
      ]
     },
     "metadata": {},
     "output_type": "display_data"
    }
   ],
   "source": [
    "#if results geodatabase doesn't exist, create it\n",
    "print(\"Checking if \" + gdb_ATO_TravelSheds_name + \" exists...\")\n",
    "if not arcpy.Exists(os.path.join(dirResults, gdb_ATO_TravelSheds_name)):\n",
    "    print(\"Creating \" + gdb_ATO_TravelSheds_name + \"...\")\n",
    "    arcpy.management.CreateFileGDB(dirResults, gdb_ATO_TravelSheds_name)\n",
    "else:\n",
    "    print(gdb_ATO_TravelSheds_name + \" exists...\")\n",
    "#print(AnalysisAreasInput)  \n",
    "\n",
    "#debugging variables\n",
    "debug = False\n",
    "breakafter = 2\n",
    "\n",
    "#variables\n",
    "overwriteorappend = 'append'\n",
    "#overwriteorappend = 'overwrite'\n",
    "starttaz = 1\n",
    "endtaz = 3546\n",
    "\n",
    "#test data\n",
    "#starttaz = 2080\n",
    "#endtaz = 2100\n",
    "\n",
    "try:\n",
    "    lasttazfinished\n",
    "except NameError:\n",
    "    lasttazfinished = 0\n",
    "\n",
    "#ONLY DEFINE lasttazfinished IF CLOSING AND REOPENING NOTEBOOK, OTHERWISE SHOULD BE PRESERVED IN NOTEBOOK\n",
    "#lasttazfinished = 2794\n",
    "    \n",
    "display(\"Last TAZ finished: \" + str(lasttazfinished))\n",
    "\n",
    "#initialize variables... DON'T CHANGE THESE\n",
    "i = -1\n",
    "starttime = time.time()\n",
    "endtime   = time.time()\n",
    "breaknow = False\n",
    "\n",
    "\n",
    "listTDMs       = ['v9_SE23_Net23','v9_RTP_SE50_Net50']\n",
    "listLayerNames = ['2023','2050']\n",
    "listMode       = ['AUTO','TRAN'] #\n",
    "\n",
    "\n",
    "\n",
    "if (debug): display (\"DEBUG ON -- BREAKING AFTER \" + str(breakafter) + \" ITERATIONS\")\n",
    "\n",
    "#loop through tdm results from preprocessed data\n",
    "for tdm in listTDMs:\n",
    "    \n",
    "    if (breaknow==False):\n",
    "        \n",
    "        i = i + 1\n",
    "\n",
    "        #filenameTravelShed_Summary = os.path.join(dirIntermediateTravelSheds, tdm + '_TAZOpportunitySheds_Summary.csv')\n",
    "        #display(filenameTravelShed_Summary)\n",
    "        \n",
    "        #df_TS_Summary = pd.read_csv(filenameTravelShed_Summary, index_col=False)\n",
    "        \n",
    "        #df_TS_Summary.to_json(os.path.join(dirResults, \"TAZSheds_Summary_\" + listLayerNames[i] + \".json\"),orient='records',double_precision=2)\n",
    "\n",
    "        #loop through modes\n",
    "        for mode in listMode:\n",
    "            \n",
    "            if (breaknow==False):\n",
    "\n",
    "                filenameTravelShed_Mode = os.path.join(dirIntermediateTravelSheds, tdm + '_TAZOpportunitySheds_' + mode + '.csv')\n",
    "                display(filenameTravelShed_Mode)\n",
    "\n",
    "                df_TS = pd.read_csv(filenameTravelShed_Mode, index_col=False)\n",
    "\n",
    "                df_TS_TAZs = df_TS.groupby(['I'], as_index=False).agg({\"J\":[np.size]})\n",
    "\n",
    "                #initialize feature class\n",
    "                filenameTravelSheds_TdmMode = filenameTravelSheds + '_' + listLayerNames[i] + '_' + mode\n",
    "\n",
    "                if (overwriteorappend == 'overwrite'):\n",
    "                    display(\"Deleting \" + filenameTravelSheds_TdmMode + \"...\")\n",
    "                    deleteIfExists(filenameTravelSheds_TdmMode)\n",
    "\n",
    "                j = -1\n",
    "\n",
    "                for index, row in df_TS_TAZs.iterrows():\n",
    "\n",
    "                    tazid = row['I'][0]\n",
    "\n",
    "                    if (tazid>=starttaz and tazid>lasttazfinished and tazid<=endtaz and breaknow==False and tazid in listValidTazs):\n",
    "\n",
    "                        j = j + 1\n",
    "\n",
    "                        if (debug): display(\"j: \" + str(j))\n",
    "\n",
    "                        if (debug): display(\"TAZ \" + str(tazid))\n",
    "\n",
    "                        starttime = time.time()\n",
    "\n",
    "                        df_TS_OneTAZ = df_TS[df_TS['I']==tazid]\n",
    "                        #display(df_TS_OneTAZ)\n",
    "\n",
    "                        #create table with just sheds for one TAZ\n",
    "                        if (debug): display(\"create csv...\")\n",
    "                        df_TS_OneTAZ.to_csv(filenameTravelShedsForOneTAZData,index=False)\n",
    "\n",
    "                        #join to table created in last step\n",
    "                        if (debug): display(\"join...\")\n",
    "                            \n",
    "                        deleteIfExists(filenameTravelShedsForOneTAZJoin)\n",
    "                        \n",
    "                        joined_table =  arcpy.management.AddJoin(filenameTAZshp, 'TAZID', filenameTravelShedsForOneTAZData, 'J', 'KEEP_COMMON')\n",
    "                        if (debug): display(joined_table)\n",
    "                        arcpy.CopyFeatures_management(joined_table, filenameTravelShedsForOneTAZJoin) \n",
    "\n",
    "                        #dissolve on Shed value\n",
    "                        if (debug): display(\"dissolve...\")\n",
    "                        deleteIfExists(filenameTravelShedsForOneTAZDissolve)\n",
    "                        arcpy.management.Dissolve(filenameTravelShedsForOneTAZJoin, filenameTravelShedsForOneTAZDissolve, [\"TAZShedsData_csv_I\",\"TAZShedsData_csv_SHED\"], \"\", \"SINGLE_PART\")\n",
    "\n",
    "                        arcpy.AddField_management(filenameTravelShedsForOneTAZDissolve, \"I\"   , \"SHORT\")\n",
    "                        arcpy.AddField_management(filenameTravelShedsForOneTAZDissolve, \"SHED\", \"SHORT\")\n",
    "\n",
    "                        #for integer values, not sure how to calculate, so using string that gets changed by to integer due to field type\n",
    "                        arcpy.CalculateField_management(filenameTravelShedsForOneTAZDissolve, \"I\",    '!TAZShedsData_csv_I!'     , \"PYTHON3\")\n",
    "                        arcpy.CalculateField_management(filenameTravelShedsForOneTAZDissolve, \"SHED\", '!TAZShedsData_csv_SHED!'  , \"PYTHON3\")\n",
    "\n",
    "                        arcpy.DeleteField_management(filenameTravelShedsForOneTAZDissolve, [\"TAZShedsData_csv_I\",\"TAZShedsData_csv_SHED\"])\n",
    "\n",
    "                        #create polylines (FUTURE USE?)\n",
    "                        #deleteIfExists(filenameTravelShedsForOneTAZPolylines)\n",
    "                        #arcpy.management.PolygonToLine(filenameTravelShedsForOneTAZDissolve, filenameTravelShedsForOneTAZPolylines, \"IGNORE_NEIGHBORS\")\n",
    "\n",
    "                        deleteIfExists(filenameTravelShedsForOneTAZMask)\n",
    "\n",
    "                        if (debug): display(\"create state mask...\")\n",
    "                        arcpy.analysis.SymDiff(filenameUtahshp, filenameTravelShedsForOneTAZDissolve, filenameTravelShedsForOneTAZMask)\n",
    "\n",
    "                        arcpy.AddField_management(filenameTravelShedsForOneTAZMask, \"I\"   , \"SHORT\")\n",
    "                        arcpy.AddField_management(filenameTravelShedsForOneTAZMask, \"SHED\", \"SHORT\")\n",
    "\n",
    "                        arcpy.CalculateField_management(filenameTravelShedsForOneTAZMask, \"I\", '\"' + str(tazid) + '\"', \"PYTHON3\")\n",
    "\n",
    "                        arcpy.DeleteField_management(filenameTravelShedsForOneTAZMask, [\"FID_UtahSimple\",\"OBJECTID\",\"FID_TAZShedsDissolve\",\"TAZShedsData_csv_I\",\"TAZShedsData_csv_SHED\"])\n",
    "\n",
    "                        #if final layer does not exist copy, else append\n",
    "                        if (debug): display(\"append sheds...\")\n",
    "                        if not arcpy.Exists(filenameTravelSheds_TdmMode):\n",
    "                            arcpy.CopyFeatures_management(filenameTravelShedsForOneTAZDissolve, filenameTravelSheds_TdmMode)\n",
    "                        else:\n",
    "                            arcpy.management.Append(filenameTravelShedsForOneTAZDissolve, filenameTravelSheds_TdmMode)\n",
    "\n",
    "                        # Create a field mappings object\n",
    "                        field_mappings = arcpy.FieldMappings()\n",
    "\n",
    "                        # Add field mappings for 'I' and 'SHED'\n",
    "                        for field_name in ['I', 'SHED']:\n",
    "                            # Create a field map for the current field\n",
    "                            field_map = arcpy.FieldMap()\n",
    "                            field_map.addInputField(filenameTravelSheds_TdmMode, field_name)\n",
    "\n",
    "                            # Get the field properties from the field map\n",
    "                            output_field = field_map.outputField\n",
    "                            output_field.name = field_name\n",
    "                            field_map.outputField = output_field\n",
    "\n",
    "                            # Add the field map to the field mappings\n",
    "                            field_mappings.addFieldMap(field_map)\n",
    "\n",
    "                        if (debug): display(\"append mask to final layer...\")\n",
    "                        arcpy.management.Append(filenameTravelShedsForOneTAZMask, filenameTravelSheds_TdmMode, \"NO_TEST\", field_mappings)\n",
    "\n",
    "                        endtime = time.time()\n",
    "\n",
    "                        display(\"TAZ \" + str(tazid) + \" Elapsed Seconds: \" + str((endtime - starttime)))\n",
    "\n",
    "                        #keep track of tazid that has been completed, so the process can pick up after this one if broken\n",
    "                        lasttazfinished = tazid\n",
    "                        \n",
    "                        #reset lasttazfinished after reaching the end taz\n",
    "                        if (lasttazfinished == endtaz):\n",
    "                            lasttazfinished = 0\n",
    "                        \n",
    "                        #conditions to break if debug mode is on\n",
    "                        if (j>=breakafter and debug==True):\n",
    "                            breaknow = True;\n",
    "                            display(\"BREAKING!\")\n",
    "\n",
    "                #reset lasttazfinished\n",
    "                lasttazfinished = 0"
   ]
  },
  {
   "cell_type": "code",
   "execution_count": 6,
   "metadata": {},
   "outputs": [
    {
     "data": {
      "text/plain": [
       "0"
      ]
     },
     "execution_count": 6,
     "metadata": {},
     "output_type": "execute_result"
    }
   ],
   "source": [
    "lasttazfinished"
   ]
  }
 ],
 "metadata": {
  "kernelspec": {
   "display_name": "Python 3",
   "language": "python",
   "name": "python3"
  },
  "language_info": {
   "codemirror_mode": {
    "name": "ipython",
    "version": 3
   },
   "file_extension": ".py",
   "mimetype": "text/x-python",
   "name": "python",
   "nbconvert_exporter": "python",
   "pygments_lexer": "ipython3",
   "version": "3.9.11"
  }
 },
 "nbformat": 4,
 "nbformat_minor": 4
}
